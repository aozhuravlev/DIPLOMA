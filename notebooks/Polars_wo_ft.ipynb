{
 "cells": [
  {
   "cell_type": "markdown",
   "metadata": {},
   "source": [
    "# Libs Loading"
   ]
  },
  {
   "cell_type": "code",
   "execution_count": 1,
   "metadata": {},
   "outputs": [],
   "source": [
    "%reload_ext autoreload\n",
    "%autoreload 2"
   ]
  },
  {
   "cell_type": "code",
   "execution_count": 2,
   "metadata": {},
   "outputs": [
    {
     "ename": "ModuleNotFoundError",
     "evalue": "No module named 'data_loading_functions'",
     "output_type": "error",
     "traceback": [
      "\u001b[1;31m---------------------------------------------------------------------------\u001b[0m",
      "\u001b[1;31mModuleNotFoundError\u001b[0m                       Traceback (most recent call last)",
      "\u001b[1;32mc:\\Users\\User\\skillbox\\HOMEWORKS\\ML Junior\\FINAL\\notebooks\\Polars_wo_ft.ipynb Cell 3\u001b[0m line \u001b[0;36m2\n\u001b[0;32m     <a href='vscode-notebook-cell:/c%3A/Users/User/skillbox/HOMEWORKS/ML%20Junior/FINAL/notebooks/Polars_wo_ft.ipynb#W2sZmlsZQ%3D%3D?line=16'>17</a>\u001b[0m \u001b[39mfrom\u001b[39;00m \u001b[39mxgboost\u001b[39;00m \u001b[39mimport\u001b[39;00m XGBClassifier\n\u001b[0;32m     <a href='vscode-notebook-cell:/c%3A/Users/User/skillbox/HOMEWORKS/ML%20Junior/FINAL/notebooks/Polars_wo_ft.ipynb#W2sZmlsZQ%3D%3D?line=17'>18</a>\u001b[0m \u001b[39mfrom\u001b[39;00m \u001b[39msklearn\u001b[39;00m\u001b[39m.\u001b[39;00m\u001b[39mmetrics\u001b[39;00m \u001b[39mimport\u001b[39;00m roc_auc_score\n\u001b[1;32m---> <a href='vscode-notebook-cell:/c%3A/Users/User/skillbox/HOMEWORKS/ML%20Junior/FINAL/notebooks/Polars_wo_ft.ipynb#W2sZmlsZQ%3D%3D?line=20'>21</a>\u001b[0m \u001b[39mimport\u001b[39;00m \u001b[39mdata_loading_functions\u001b[39;00m \u001b[39mas\u001b[39;00m \u001b[39mdlf\u001b[39;00m\n\u001b[0;32m     <a href='vscode-notebook-cell:/c%3A/Users/User/skillbox/HOMEWORKS/ML%20Junior/FINAL/notebooks/Polars_wo_ft.ipynb#W2sZmlsZQ%3D%3D?line=21'>22</a>\u001b[0m \u001b[39mimport\u001b[39;00m \u001b[39mfeature_engineering_pl\u001b[39;00m \u001b[39mas\u001b[39;00m \u001b[39mfepl\u001b[39;00m\n\u001b[0;32m     <a href='vscode-notebook-cell:/c%3A/Users/User/skillbox/HOMEWORKS/ML%20Junior/FINAL/notebooks/Polars_wo_ft.ipynb#W2sZmlsZQ%3D%3D?line=22'>23</a>\u001b[0m \u001b[39mimport\u001b[39;00m \u001b[39mcleaning_functions\u001b[39;00m \u001b[39mas\u001b[39;00m \u001b[39mclf\u001b[39;00m\n",
      "\u001b[1;31mModuleNotFoundError\u001b[0m: No module named 'data_loading_functions'"
     ]
    }
   ],
   "source": [
    "import warnings\n",
    "warnings.filterwarnings('ignore')\n",
    "\n",
    "import polars as pl\n",
    "import pandas as pd\n",
    "pd.set_option(\"display.max_columns\", None)\n",
    "pd.set_option(\"display.max_rows\", None)\n",
    "\n",
    "import numpy as np\n",
    "import matplotlib.pyplot as plt\n",
    "import seaborn as sns\n",
    "%matplotlib inline\n",
    "\n",
    "\n",
    "from sklearn.model_selection import train_test_split, cross_val_score\n",
    "from catboost import CatBoostClassifier, Pool\n",
    "from xgboost import XGBClassifier\n",
    "from sklearn.metrics import roc_auc_score\n",
    "\n",
    "\n",
    "import data_loading_functions as dlf\n",
    "import feature_engineering_pl as fepl\n",
    "import cleaning_functions as clf\n",
    "import modeling_functions as mlf"
   ]
  },
  {
   "cell_type": "markdown",
   "metadata": {},
   "source": [
    "# 0. Data Loading"
   ]
  },
  {
   "cell_type": "code",
   "execution_count": 51,
   "metadata": {},
   "outputs": [
    {
     "name": "stdout",
     "output_type": "stream",
     "text": [
      "load_data_pl              -- OK. Time elapsed: 0 min 15 sec\n"
     ]
    },
    {
     "data": {
      "text/html": [
       "<div><style>\n",
       ".dataframe > thead > tr,\n",
       ".dataframe > tbody > tr {\n",
       "  text-align: right;\n",
       "  white-space: pre-wrap;\n",
       "}\n",
       "</style>\n",
       "<small>shape: (3, 60)</small><table border=\"1\" class=\"dataframe\"><thead><tr><th>id</th><th>rn</th><th>pre_since_opened</th><th>pre_since_confirmed</th><th>pre_pterm</th><th>pre_fterm</th><th>pre_till_pclose</th><th>pre_till_fclose</th><th>pre_loans_credit_limit</th><th>pre_loans_next_pay_summ</th><th>pre_loans_outstanding</th><th>pre_loans_max_overdue_sum</th><th>pre_loans_credit_cost_rate</th><th>pre_loans5</th><th>pre_loans530</th><th>pre_loans3060</th><th>pre_loans6090</th><th>pre_loans90</th><th>is_zero_loans5</th><th>is_zero_loans530</th><th>is_zero_loans3060</th><th>is_zero_loans6090</th><th>is_zero_loans90</th><th>pre_util</th><th>pre_over2limit</th><th>pre_maxover2limit</th><th>is_zero_util</th><th>is_zero_over2limit</th><th>is_zero_maxover2limit</th><th>enc_paym_0</th><th>enc_paym_1</th><th>enc_paym_2</th><th>enc_paym_3</th><th>enc_paym_4</th><th>enc_paym_5</th><th>enc_paym_6</th><th>enc_paym_7</th><th>enc_paym_8</th><th>enc_paym_9</th><th>enc_paym_10</th><th>enc_paym_11</th><th>enc_paym_12</th><th>enc_paym_13</th><th>enc_paym_14</th><th>enc_paym_15</th><th>enc_paym_16</th><th>enc_paym_17</th><th>enc_paym_18</th><th>enc_paym_19</th><th>enc_paym_20</th><th>enc_paym_21</th><th>enc_paym_22</th><th>enc_paym_23</th><th>enc_paym_24</th><th>enc_loans_account_holder_type</th><th>enc_loans_credit_status</th><th>enc_loans_credit_type</th><th>enc_loans_account_cur</th><th>pclose_flag</th><th>fclose_flag</th></tr><tr><td>i32</td><td>i8</td><td>i8</td><td>i8</td><td>i8</td><td>i8</td><td>i8</td><td>i8</td><td>i8</td><td>i8</td><td>i8</td><td>i8</td><td>i8</td><td>i8</td><td>i8</td><td>i8</td><td>i8</td><td>i8</td><td>i8</td><td>i8</td><td>i8</td><td>i8</td><td>i8</td><td>i8</td><td>i8</td><td>i8</td><td>bool</td><td>bool</td><td>bool</td><td>i8</td><td>i8</td><td>i8</td><td>i8</td><td>i8</td><td>i8</td><td>i8</td><td>i8</td><td>i8</td><td>i8</td><td>i8</td><td>i8</td><td>i8</td><td>i8</td><td>i8</td><td>i8</td><td>i8</td><td>i8</td><td>i8</td><td>i8</td><td>i8</td><td>i8</td><td>i8</td><td>i8</td><td>i8</td><td>i8</td><td>i8</td><td>i8</td><td>i8</td><td>bool</td><td>bool</td></tr></thead><tbody><tr><td>0</td><td>1</td><td>18</td><td>9</td><td>2</td><td>3</td><td>16</td><td>10</td><td>11</td><td>3</td><td>3</td><td>2</td><td>11</td><td>6</td><td>16</td><td>5</td><td>4</td><td>8</td><td>1</td><td>1</td><td>1</td><td>1</td><td>1</td><td>16</td><td>2</td><td>17</td><td>true</td><td>true</td><td>true</td><td>0</td><td>0</td><td>3</td><td>3</td><td>3</td><td>3</td><td>3</td><td>3</td><td>3</td><td>3</td><td>3</td><td>4</td><td>3</td><td>3</td><td>3</td><td>3</td><td>3</td><td>3</td><td>3</td><td>3</td><td>4</td><td>3</td><td>3</td><td>3</td><td>4</td><td>1</td><td>3</td><td>4</td><td>1</td><td>false</td><td>false</td></tr><tr><td>0</td><td>2</td><td>18</td><td>9</td><td>14</td><td>14</td><td>12</td><td>12</td><td>0</td><td>3</td><td>3</td><td>2</td><td>11</td><td>6</td><td>16</td><td>5</td><td>4</td><td>8</td><td>1</td><td>1</td><td>1</td><td>1</td><td>1</td><td>16</td><td>2</td><td>17</td><td>true</td><td>true</td><td>true</td><td>0</td><td>0</td><td>0</td><td>0</td><td>0</td><td>0</td><td>0</td><td>0</td><td>0</td><td>0</td><td>0</td><td>1</td><td>0</td><td>0</td><td>0</td><td>0</td><td>0</td><td>0</td><td>0</td><td>0</td><td>1</td><td>0</td><td>0</td><td>0</td><td>4</td><td>1</td><td>3</td><td>4</td><td>1</td><td>false</td><td>false</td></tr><tr><td>0</td><td>3</td><td>18</td><td>9</td><td>4</td><td>8</td><td>1</td><td>11</td><td>11</td><td>0</td><td>5</td><td>2</td><td>8</td><td>6</td><td>16</td><td>5</td><td>4</td><td>8</td><td>1</td><td>1</td><td>1</td><td>1</td><td>1</td><td>15</td><td>2</td><td>17</td><td>false</td><td>true</td><td>true</td><td>0</td><td>0</td><td>0</td><td>0</td><td>0</td><td>0</td><td>0</td><td>0</td><td>0</td><td>0</td><td>0</td><td>1</td><td>0</td><td>0</td><td>0</td><td>0</td><td>0</td><td>0</td><td>0</td><td>0</td><td>1</td><td>0</td><td>0</td><td>0</td><td>4</td><td>1</td><td>2</td><td>3</td><td>1</td><td>true</td><td>true</td></tr></tbody></table></div>"
      ],
      "text/plain": [
       "shape: (3, 60)\n",
       "┌─────┬─────┬─────────────┬─────────────┬───┬─────────────┬─────────────┬─────────────┬────────────┐\n",
       "│ id  ┆ rn  ┆ pre_since_o ┆ pre_since_c ┆ … ┆ enc_loans_c ┆ enc_loans_a ┆ pclose_flag ┆ fclose_fla │\n",
       "│ --- ┆ --- ┆ pened       ┆ onfirmed    ┆   ┆ redit_type  ┆ ccount_cur  ┆ ---         ┆ g          │\n",
       "│ i32 ┆ i8  ┆ ---         ┆ ---         ┆   ┆ ---         ┆ ---         ┆ bool        ┆ ---        │\n",
       "│     ┆     ┆ i8          ┆ i8          ┆   ┆ i8          ┆ i8          ┆             ┆ bool       │\n",
       "╞═════╪═════╪═════════════╪═════════════╪═══╪═════════════╪═════════════╪═════════════╪════════════╡\n",
       "│ 0   ┆ 1   ┆ 18          ┆ 9           ┆ … ┆ 4           ┆ 1           ┆ false       ┆ false      │\n",
       "│ 0   ┆ 2   ┆ 18          ┆ 9           ┆ … ┆ 4           ┆ 1           ┆ false       ┆ false      │\n",
       "│ 0   ┆ 3   ┆ 18          ┆ 9           ┆ … ┆ 3           ┆ 1           ┆ true        ┆ true       │\n",
       "└─────┴─────┴─────────────┴─────────────┴───┴─────────────┴─────────────┴─────────────┴────────────┘"
      ]
     },
     "execution_count": 51,
     "metadata": {},
     "output_type": "execute_result"
    }
   ],
   "source": [
    "df_data = dlf.load_data_pl()\n",
    "df_data.head(3)"
   ]
  },
  {
   "cell_type": "code",
   "execution_count": 5,
   "metadata": {},
   "outputs": [
    {
     "name": "stdout",
     "output_type": "stream",
     "text": [
      "load_target_pl            -- OK. Time elapsed: 0 min 0 sec\n"
     ]
    },
    {
     "data": {
      "text/html": [
       "<div><style>\n",
       ".dataframe > thead > tr,\n",
       ".dataframe > tbody > tr {\n",
       "  text-align: right;\n",
       "  white-space: pre-wrap;\n",
       "}\n",
       "</style>\n",
       "<small>shape: (3_000_000, 2)</small><table border=\"1\" class=\"dataframe\"><thead><tr><th>id</th><th>flag</th></tr><tr><td>i32</td><td>i8</td></tr></thead><tbody><tr><td>0</td><td>0</td></tr><tr><td>1</td><td>0</td></tr><tr><td>2</td><td>0</td></tr><tr><td>3</td><td>0</td></tr><tr><td>4</td><td>0</td></tr><tr><td>&hellip;</td><td>&hellip;</td></tr><tr><td>2999995</td><td>0</td></tr><tr><td>2999996</td><td>0</td></tr><tr><td>2999997</td><td>0</td></tr><tr><td>2999998</td><td>0</td></tr><tr><td>2999999</td><td>0</td></tr></tbody></table></div>"
      ],
      "text/plain": [
       "shape: (3_000_000, 2)\n",
       "┌─────────┬──────┐\n",
       "│ id      ┆ flag │\n",
       "│ ---     ┆ ---  │\n",
       "│ i32     ┆ i8   │\n",
       "╞═════════╪══════╡\n",
       "│ 0       ┆ 0    │\n",
       "│ 1       ┆ 0    │\n",
       "│ 2       ┆ 0    │\n",
       "│ 3       ┆ 0    │\n",
       "│ 4       ┆ 0    │\n",
       "│ …       ┆ …    │\n",
       "│ 2999995 ┆ 0    │\n",
       "│ 2999996 ┆ 0    │\n",
       "│ 2999997 ┆ 0    │\n",
       "│ 2999998 ┆ 0    │\n",
       "│ 2999999 ┆ 0    │\n",
       "└─────────┴──────┘"
      ]
     },
     "execution_count": 5,
     "metadata": {},
     "output_type": "execute_result"
    }
   ],
   "source": [
    "# df_target = dlf.load_target_pl()\n",
    "# df_target"
   ]
  },
  {
   "cell_type": "markdown",
   "metadata": {},
   "source": [
    "# 2. Feature Gambling"
   ]
  },
  {
   "cell_type": "code",
   "execution_count": 97,
   "metadata": {},
   "outputs": [
    {
     "data": {
      "text/plain": [
       "(26162717, 60)"
      ]
     },
     "execution_count": 97,
     "metadata": {},
     "output_type": "execute_result"
    }
   ],
   "source": [
    "df_feat = df_data.clone()\n",
    "df_feat.shape"
   ]
  },
  {
   "cell_type": "code",
   "execution_count": 98,
   "metadata": {},
   "outputs": [
    {
     "name": "stdout",
     "output_type": "stream",
     "text": [
      "horizontal_sum            -- OK. Time elapsed: 0 min 0 sec\n"
     ]
    }
   ],
   "source": [
    "df_feat = fepl.horizontal_sum(df_feat)"
   ]
  },
  {
   "cell_type": "code",
   "execution_count": 99,
   "metadata": {},
   "outputs": [
    {
     "name": "stdout",
     "output_type": "stream",
     "text": [
      "grouping_features         -- OK. Time elapsed: 0 min 3 sec\n"
     ]
    },
    {
     "data": {
      "text/plain": [
       "False"
      ]
     },
     "execution_count": 99,
     "metadata": {},
     "output_type": "execute_result"
    }
   ],
   "source": [
    "df_feat = fepl.grouping_features(df_feat)"
   ]
  },
  {
   "cell_type": "code",
   "execution_count": 100,
   "metadata": {},
   "outputs": [
    {
     "name": "stdout",
     "output_type": "stream",
     "text": [
      "combined_features         -- OK. Time elapsed: 0 min 0 sec\n"
     ]
    },
    {
     "data": {
      "text/plain": [
       "False"
      ]
     },
     "execution_count": 100,
     "metadata": {},
     "output_type": "execute_result"
    }
   ],
   "source": [
    "df_feat = fepl.combined_features(df_feat)"
   ]
  },
  {
   "cell_type": "code",
   "execution_count": 101,
   "metadata": {},
   "outputs": [
    {
     "name": "stdout",
     "output_type": "stream",
     "text": [
      "pl_featuretools           -- OK. Time elapsed: 0 min 36 sec\n"
     ]
    },
    {
     "data": {
      "text/plain": [
       "False"
      ]
     },
     "execution_count": 101,
     "metadata": {},
     "output_type": "execute_result"
    }
   ],
   "source": [
    "df_feat = fepl.pl_featuretools(df_feat)"
   ]
  },
  {
   "cell_type": "code",
   "execution_count": 102,
   "metadata": {},
   "outputs": [
    {
     "name": "stdout",
     "output_type": "stream",
     "text": [
      "remove_hi_corr_feats      -- OK. Time elapsed: 0 min 31 sec\n"
     ]
    }
   ],
   "source": [
    "df_feat = clf.remove_hi_corr_feats(df_feat)"
   ]
  },
  {
   "cell_type": "code",
   "execution_count": 103,
   "metadata": {},
   "outputs": [
    {
     "name": "stdout",
     "output_type": "stream",
     "text": [
      "target_loading            -- OK. Time elapsed: 0 min 0 sec\n",
      "to_pandas                 -- OK. Time elapsed: 0 min 0 sec\n"
     ]
    }
   ],
   "source": [
    "df_combined = dlf.load_target(df_feat)\n",
    "df_to_model = clf.convert_to_pandas(df_combined)"
   ]
  },
  {
   "cell_type": "code",
   "execution_count": 104,
   "metadata": {},
   "outputs": [
    {
     "name": "stdout",
     "output_type": "stream",
     "text": [
      "<class 'pandas.core.frame.DataFrame'>\n",
      "RangeIndex: 3000000 entries, 0 to 2999999\n",
      "Columns: 183 entries, id to flag\n",
      "dtypes: float32(116), int16(10), int32(1), int8(56)\n",
      "memory usage: 1.5 GB\n"
     ]
    }
   ],
   "source": [
    "df_to_model.info()"
   ]
  },
  {
   "cell_type": "code",
   "execution_count": 105,
   "metadata": {},
   "outputs": [
    {
     "name": "stderr",
     "output_type": "stream",
     "text": [
      "Default metric period is 5 because AUC is/are not implemented for GPU\n"
     ]
    },
    {
     "name": "stdout",
     "output_type": "stream",
     "text": [
      "get_model_and_score       -- OK. Time elapsed: 2 min 46 sec\n"
     ]
    },
    {
     "data": {
      "text/plain": [
       "0.758034378456129"
      ]
     },
     "execution_count": 105,
     "metadata": {},
     "output_type": "execute_result"
    }
   ],
   "source": [
    "model, score = mlf.get_model_and_score(df_to_model)\n",
    "score"
   ]
  },
  {
   "cell_type": "code",
   "execution_count": 14,
   "metadata": {},
   "outputs": [
    {
     "name": "stdout",
     "output_type": "stream",
     "text": [
      "<class 'pandas.core.frame.DataFrame'>\n",
      "RangeIndex: 3000000 entries, 0 to 2999999\n",
      "Columns: 180 entries, id to outstnd_grpd + is0_tot_std\n",
      "dtypes: float32(114), int16(11), int32(1), int8(54)\n",
      "memory usage: 1.5 GB\n"
     ]
    }
   ],
   "source": [
    "# df_feat_pd = df_feat.to_pandas()\n",
    "# df_target_pd = df_target.to_pandas()\n",
    "# df_feat_pd.info()"
   ]
  },
  {
   "cell_type": "code",
   "execution_count": 15,
   "metadata": {},
   "outputs": [
    {
     "data": {
      "image/png": "[encoded data removed]",
      "text/plain": [
       "<Figure size 1000x3000 with 1 Axes>"
      ]
     },
     "metadata": {},
     "output_type": "display_data"
    }
   ],
   "source": [
    "# from xgboost import XGBClassifier\n",
    "# import matplotlib.pyplot as plt\n",
    "# import seaborn as sns\n",
    "\n",
    "# # Данные\n",
    "# X_cut = df_feat_pd\n",
    "# y_cut = df_target_pd['flag']\n",
    "\n",
    "# # Создание и обучение модели\n",
    "# xgb = XGBClassifier(\n",
    "#     n_estimators=1000,\n",
    "#     max_depth=4,\n",
    "#     learning_rate=0.012,\n",
    "#     random_state=137,\n",
    "#     verbosity=0,\n",
    "#     eval_metric='auc',\n",
    "#     tree_method='gpu_hist',\n",
    "#     enable_categorical=True\n",
    "# )\n",
    "\n",
    "# xgb.fit(X_cut, y_cut)\n",
    "\n",
    "# # Получение важности признаков\n",
    "# feature_importance = xgb.get_booster().get_score(importance_type='gain')\n",
    "\n",
    "# # Сортировка важности признаков\n",
    "# best_features_sorted = dict(\n",
    "#     sorted(feature_importance.items(), key=lambda item: item[1], reverse=True)\n",
    "# )\n",
    "\n",
    "# # Визуализация важности признаков\n",
    "# plt.figure(figsize=(10, 30))\n",
    "# sns.barplot(\n",
    "#     x=list(best_features_sorted.values()), \n",
    "#     y=list(best_features_sorted.keys())\n",
    "# );\n",
    "\n"
   ]
  },
  {
   "cell_type": "code",
   "execution_count": 16,
   "metadata": {},
   "outputs": [
    {
     "name": "stdout",
     "output_type": "stream",
     "text": [
      "(3000000, 133)\n"
     ]
    }
   ],
   "source": [
    "# Фильтрация признаков для нового DataFrame\n",
    "feats_to_df_model = [feat for feat, val in best_features_sorted.items() if val > .5]\n",
    "df_squeezed = X_cut[feats_to_df_model].copy()\n",
    "df_squeezed['flag'] = df_target_pd['flag']\n",
    "\n",
    "# Размер итогового DataFrame\n",
    "print(df_squeezed.shape)"
   ]
  },
  {
   "cell_type": "markdown",
   "metadata": {},
   "source": [
    "# 3. Modeling"
   ]
  },
  {
   "cell_type": "code",
   "execution_count": 17,
   "metadata": {},
   "outputs": [],
   "source": [
    "X = df_squeezed.drop(columns=['flag'])\n",
    "y = df_squeezed.flag\n",
    "\n",
    "# X = df_feat_pd\n",
    "# y = df_target_pd.flag\n",
    "\n",
    "\n",
    "X_train, X_test, y_train, y_test = train_test_split(\n",
    "    X, y, test_size=.2, stratify=y, random_state=137, shuffle=True\n",
    ")"
   ]
  },
  {
   "cell_type": "code",
   "execution_count": 18,
   "metadata": {},
   "outputs": [],
   "source": [
    "message = 'minor changes in fepl'"
   ]
  },
  {
   "cell_type": "code",
   "execution_count": 21,
   "metadata": {},
   "outputs": [
    {
     "name": "stderr",
     "output_type": "stream",
     "text": [
      "Default metric period is 5 because AUC is/are not implemented for GPU\n"
     ]
    },
    {
     "name": "stdout",
     "output_type": "stream",
     "text": [
      "AUC with minor changes in fepl                   : 75.79%\n"
     ]
    }
   ],
   "source": [
    "best_params_df = pd.read_csv('../data/best_params_3M_pl.csv')\n",
    "best_params = best_params_df.to_dict(orient='records')[0]\n",
    "\n",
    "cbc_best = CatBoostClassifier(\n",
    "    **best_params,\n",
    "    random_seed=137,\n",
    "    eval_metric='AUC',\n",
    "    task_type='GPU',\n",
    "    logging_level='Silent',\n",
    "    auto_class_weights='SqrtBalanced'\n",
    "    # cat_features=[i for i in X.columns if X[i].dtype == \"category\"],\n",
    "    # iterations=1400,\n",
    "    # max_depth=5,\n",
    "    # learning_rate=.13,\n",
    "    # l2_leaf_reg=.002,\n",
    "    # border_count=87,\n",
    "    # random_strength=.04,\n",
    "    # bagging_temperature=0.06\n",
    ")\n",
    "\n",
    "cbc_best.fit(X_train, y_train)\n",
    "y_pred = cbc_best.predict_proba(X_test)[:, 1]\n",
    "\n",
    "score = roc_auc_score(y_test, y_pred)\n",
    "with open(\"results.txt\", \"a\") as f:\n",
    "    string = f\"AUC with {message:40}: {score:.2%}\"\n",
    "    print(string)\n",
    "    f.write(f\"\\n{type(cbc_best).__name__}\\n{string}\\n\")\n",
    "# fef.playsound()"
   ]
  },
  {
   "cell_type": "code",
   "execution_count": null,
   "metadata": {},
   "outputs": [
    {
     "name": "stderr",
     "output_type": "stream",
     "text": [
      "[I 2024-12-29 18:22:23,330] A new study created in memory with name: no-name-8890c55a-c2a2-408a-ab01-6da30bf6a10f\n",
      "Default metric period is 5 because AUC is/are not implemented for GPU\n",
      "[I 2024-12-29 18:23:08,785] Trial 0 finished with value: 0.747543576757561 and parameters: {'iterations': 1682, 'max_depth': 4, 'learning_rate': 0.02760599843752866, 'l2_leaf_reg': 4.644797610634319, 'border_count': 39, 'random_strength': 7.833421869020896, 'bagging_temperature': 0.3698934080182792, 'min_data_in_leaf': 136, 'one_hot_max_size': 9, 'leaf_estimation_iterations': 6}. Best is trial 0 with value: 0.747543576757561.\n",
      "Default metric period is 5 because AUC is/are not implemented for GPU\n",
      "[I 2024-12-29 18:24:42,962] Trial 1 finished with value: 0.7567464066972678 and parameters: {'iterations': 3403, 'max_depth': 4, 'learning_rate': 0.15220693412784092, 'l2_leaf_reg': 0.8273132184570275, 'border_count': 107, 'random_strength': 0.8997024870022043, 'bagging_temperature': 1.4297487425271243, 'min_data_in_leaf': 217, 'one_hot_max_size': 8, 'leaf_estimation_iterations': 5}. Best is trial 1 with value: 0.7567464066972678.\n",
      "Default metric period is 5 because AUC is/are not implemented for GPU\n",
      "[I 2024-12-29 18:26:43,264] Trial 2 finished with value: 0.7483388424930463 and parameters: {'iterations': 3559, 'max_depth': 4, 'learning_rate': 0.014651182072095998, 'l2_leaf_reg': 0.02933960776371455, 'border_count': 220, 'random_strength': 0.12609287366469527, 'bagging_temperature': 2.1011767441987916, 'min_data_in_leaf': 128, 'one_hot_max_size': 11, 'leaf_estimation_iterations': 8}. Best is trial 1 with value: 0.7567464066972678.\n",
      "Default metric period is 5 because AUC is/are not implemented for GPU\n",
      "[I 2024-12-29 18:28:16,415] Trial 3 finished with value: 0.7467403966146797 and parameters: {'iterations': 2915, 'max_depth': 4, 'learning_rate': 0.059363810961443005, 'l2_leaf_reg': 0.18469355474984786, 'border_count': 224, 'random_strength': 3.847211144541453, 'bagging_temperature': 4.574022111712243, 'min_data_in_leaf': 245, 'one_hot_max_size': 12, 'leaf_estimation_iterations': 6}. Best is trial 1 with value: 0.7567464066972678.\n",
      "Default metric period is 5 because AUC is/are not implemented for GPU\n",
      "[I 2024-12-29 18:29:49,656] Trial 4 finished with value: 0.7467970832202845 and parameters: {'iterations': 3158, 'max_depth': 3, 'learning_rate': 0.020786282124562353, 'l2_leaf_reg': 0.00978839132346233, 'border_count': 76, 'random_strength': 1.3005531899397056, 'bagging_temperature': 0.23197979788935563, 'min_data_in_leaf': 107, 'one_hot_max_size': 8, 'leaf_estimation_iterations': 6}. Best is trial 1 with value: 0.7567464066972678.\n",
      "Default metric period is 5 because AUC is/are not implemented for GPU\n",
      "[I 2024-12-29 18:30:48,330] Trial 5 finished with value: 0.7565119843488147 and parameters: {'iterations': 3054, 'max_depth': 4, 'learning_rate': 0.17665869610657675, 'l2_leaf_reg': 0.0036121249350547923, 'border_count': 53, 'random_strength': 1.3768342646005607, 'bagging_temperature': 0.739292881070408, 'min_data_in_leaf': 244, 'one_hot_max_size': 8, 'leaf_estimation_iterations': 9}. Best is trial 1 with value: 0.7567464066972678.\n",
      "Default metric period is 5 because AUC is/are not implemented for GPU\n",
      "[I 2024-12-29 18:33:37,918] Trial 6 finished with value: 0.745489206547231 and parameters: {'iterations': 4107, 'max_depth': 5, 'learning_rate': 0.01980961008617506, 'l2_leaf_reg': 0.021864128860015503, 'border_count': 217, 'random_strength': 0.0011136917437360346, 'bagging_temperature': 4.263437549384822, 'min_data_in_leaf': 211, 'one_hot_max_size': 10, 'leaf_estimation_iterations': 5}. Best is trial 1 with value: 0.7567464066972678.\n",
      "Default metric period is 5 because AUC is/are not implemented for GPU\n",
      "[I 2024-12-29 18:34:57,840] Trial 7 finished with value: 0.7567743966409871 and parameters: {'iterations': 2319, 'max_depth': 5, 'learning_rate': 0.19568457004762807, 'l2_leaf_reg': 0.030687648006985025, 'border_count': 199, 'random_strength': 0.0012057173850016417, 'bagging_temperature': 1.099935907350638, 'min_data_in_leaf': 260, 'one_hot_max_size': 15, 'leaf_estimation_iterations': 5}. Best is trial 7 with value: 0.7567743966409871.\n",
      "Default metric period is 5 because AUC is/are not implemented for GPU\n",
      "[I 2024-12-29 18:37:32,283] Trial 8 finished with value: 0.7487761736394759 and parameters: {'iterations': 4571, 'max_depth': 5, 'learning_rate': 0.019099029109745622, 'l2_leaf_reg': 0.01455117995904757, 'border_count': 76, 'random_strength': 0.042558483406190874, 'bagging_temperature': 3.2602603935587586, 'min_data_in_leaf': 256, 'one_hot_max_size': 13, 'leaf_estimation_iterations': 5}. Best is trial 7 with value: 0.7567743966409871.\n",
      "Default metric period is 5 because AUC is/are not implemented for GPU\n",
      "[I 2024-12-29 18:39:05,586] Trial 9 finished with value: 0.7440308101064371 and parameters: {'iterations': 2053, 'max_depth': 6, 'learning_rate': 0.016707850868580627, 'l2_leaf_reg': 7.267552784499083, 'border_count': 90, 'random_strength': 0.0074220620272124685, 'bagging_temperature': 4.807126414190411, 'min_data_in_leaf': 218, 'one_hot_max_size': 14, 'leaf_estimation_iterations': 9}. Best is trial 7 with value: 0.7567743966409871.\n",
      "Default metric period is 5 because AUC is/are not implemented for GPU\n",
      "[I 2024-12-29 18:40:01,491] Trial 10 finished with value: 0.7522981753555 and parameters: {'iterations': 1077, 'max_depth': 6, 'learning_rate': 0.08683592998476099, 'l2_leaf_reg': 0.0012288571675082593, 'border_count': 166, 'random_strength': 0.0013392237755317277, 'bagging_temperature': 2.799003839805134, 'min_data_in_leaf': 299, 'one_hot_max_size': 15, 'leaf_estimation_iterations': 7}. Best is trial 7 with value: 0.7567743966409871.\n",
      "Default metric period is 5 because AUC is/are not implemented for GPU\n",
      "[I 2024-12-29 18:41:14,885] Trial 11 finished with value: 0.7545931721635578 and parameters: {'iterations': 2378, 'max_depth': 3, 'learning_rate': 0.18864211287612256, 'l2_leaf_reg': 0.41640143082509895, 'border_count': 142, 'random_strength': 0.19647159538333003, 'bagging_temperature': 1.4945663853966615, 'min_data_in_leaf': 185, 'one_hot_max_size': 15, 'leaf_estimation_iterations': 5}. Best is trial 7 with value: 0.7567743966409871.\n",
      "Default metric period is 5 because AUC is/are not implemented for GPU\n",
      "[I 2024-12-29 18:42:42,891] Trial 12 finished with value: 0.7566004096741593 and parameters: {'iterations': 3833, 'max_depth': 5, 'learning_rate': 0.11943512617258902, 'l2_leaf_reg': 0.5347277675617383, 'border_count': 153, 'random_strength': 0.014535116547492163, 'bagging_temperature': 1.4595380952163859, 'min_data_in_leaf': 292, 'one_hot_max_size': 11, 'leaf_estimation_iterations': 7}. Best is trial 7 with value: 0.7567743966409871.\n",
      "Default metric period is 5 because AUC is/are not implemented for GPU\n",
      "[I 2024-12-29 18:44:23,719] Trial 13 finished with value: 0.7572087695389581 and parameters: {'iterations': 2283, 'max_depth': 5, 'learning_rate': 0.11050387182203478, 'l2_leaf_reg': 1.05193857416613, 'border_count': 115, 'random_strength': 0.42200798645346804, 'bagging_temperature': 1.277751563900475, 'min_data_in_leaf': 174, 'one_hot_max_size': 13, 'leaf_estimation_iterations': 10}. Best is trial 13 with value: 0.7572087695389581.\n",
      "Default metric period is 5 because AUC is/are not implemented for GPU\n",
      "[I 2024-12-29 18:46:04,958] Trial 14 finished with value: 0.7576888493216979 and parameters: {'iterations': 2469, 'max_depth': 6, 'learning_rate': 0.07946271043446697, 'l2_leaf_reg': 0.08241511795199756, 'border_count': 180, 'random_strength': 0.3570390803964154, 'bagging_temperature': 1.0490594249880318, 'min_data_in_leaf': 163, 'one_hot_max_size': 13, 'leaf_estimation_iterations': 10}. Best is trial 14 with value: 0.7576888493216979.\n",
      "Default metric period is 5 because AUC is/are not implemented for GPU\n",
      "[I 2024-12-29 18:47:10,261] Trial 15 finished with value: 0.7541871181561122 and parameters: {'iterations': 1465, 'max_depth': 6, 'learning_rate': 0.05907404020250525, 'l2_leaf_reg': 2.0214382565643754, 'border_count': 125, 'random_strength': 0.3933354474911209, 'bagging_temperature': 2.2913620880762227, 'min_data_in_leaf': 162, 'one_hot_max_size': 13, 'leaf_estimation_iterations': 10}. Best is trial 14 with value: 0.7576888493216979.\n",
      "Default metric period is 5 because AUC is/are not implemented for GPU\n",
      "[I 2024-12-29 18:49:20,358] Trial 16 finished with value: 0.7555338437513707 and parameters: {'iterations': 2673, 'max_depth': 6, 'learning_rate': 0.03789613782635335, 'l2_leaf_reg': 0.09460662229849495, 'border_count': 176, 'random_strength': 0.051967302096301606, 'bagging_temperature': 1.8970326346301882, 'min_data_in_leaf': 86, 'one_hot_max_size': 13, 'leaf_estimation_iterations': 10}. Best is trial 14 with value: 0.7576888493216979.\n",
      "Default metric period is 5 because AUC is/are not implemented for GPU\n",
      "[I 2024-12-29 18:50:53,312] Trial 17 finished with value: 0.7545269838452409 and parameters: {'iterations': 1810, 'max_depth': 6, 'learning_rate': 0.09377387250402919, 'l2_leaf_reg': 0.09370380136207869, 'border_count': 190, 'random_strength': 0.33350424671873435, 'bagging_temperature': 3.074076690568617, 'min_data_in_leaf': 162, 'one_hot_max_size': 12, 'leaf_estimation_iterations': 9}. Best is trial 14 with value: 0.7576888493216979.\n",
      "Default metric period is 5 because AUC is/are not implemented for GPU\n",
      "[I 2024-12-29 18:52:47,684] Trial 18 finished with value: 0.7568049899115339 and parameters: {'iterations': 2523, 'max_depth': 5, 'learning_rate': 0.06574957573716306, 'l2_leaf_reg': 0.2126732845345386, 'border_count': 247, 'random_strength': 0.623551417625464, 'bagging_temperature': 0.8614355044474729, 'min_data_in_leaf': 175, 'one_hot_max_size': 14, 'leaf_estimation_iterations': 10}. Best is trial 14 with value: 0.7576888493216979.\n",
      "Default metric period is 5 because AUC is/are not implemented for GPU\n",
      "[I 2024-12-29 18:53:47,936] Trial 19 finished with value: 0.7529424273551293 and parameters: {'iterations': 1151, 'max_depth': 6, 'learning_rate': 0.042192497198183826, 'l2_leaf_reg': 1.75471978390708, 'border_count': 123, 'random_strength': 3.7229436682688517, 'bagging_temperature': 0.04136839484543664, 'min_data_in_leaf': 149, 'one_hot_max_size': 14, 'leaf_estimation_iterations': 8}. Best is trial 14 with value: 0.7576888493216979.\n",
      "Default metric period is 5 because AUC is/are not implemented for GPU\n",
      "[I 2024-12-29 18:55:01,411] Trial 20 finished with value: 0.7523810696665636 and parameters: {'iterations': 2066, 'max_depth': 5, 'learning_rate': 0.11393216529065261, 'l2_leaf_reg': 0.05724861666291851, 'border_count': 138, 'random_strength': 0.08283383565515266, 'bagging_temperature': 3.9954890165100765, 'min_data_in_leaf': 198, 'one_hot_max_size': 12, 'leaf_estimation_iterations': 9}. Best is trial 14 with value: 0.7576888493216979.\n",
      "Default metric period is 5 because AUC is/are not implemented for GPU\n",
      "[I 2024-12-29 18:56:40,978] Trial 21 finished with value: 0.756774188314774 and parameters: {'iterations': 2565, 'max_depth': 5, 'learning_rate': 0.06480316029260284, 'l2_leaf_reg': 0.2350104928737443, 'border_count': 248, 'random_strength': 0.5442449983843755, 'bagging_temperature': 0.9252068327936172, 'min_data_in_leaf': 182, 'one_hot_max_size': 14, 'leaf_estimation_iterations': 10}. Best is trial 14 with value: 0.7576888493216979.\n",
      "Default metric period is 5 because AUC is/are not implemented for GPU\n",
      "[I 2024-12-29 18:58:25,198] Trial 22 finished with value: 0.7568803362631611 and parameters: {'iterations': 2732, 'max_depth': 5, 'learning_rate': 0.07626195306818785, 'l2_leaf_reg': 1.3206494553515928, 'border_count': 254, 'random_strength': 0.23033686595057237, 'bagging_temperature': 0.5966192408875699, 'min_data_in_leaf': 178, 'one_hot_max_size': 13, 'leaf_estimation_iterations': 10}. Best is trial 14 with value: 0.7576888493216979.\n",
      "Default metric period is 5 because AUC is/are not implemented for GPU\n",
      "[I 2024-12-29 19:00:36,509] Trial 23 finished with value: 0.7490777329149694 and parameters: {'iterations': 2848, 'max_depth': 5, 'learning_rate': 0.01029247548568058, 'l2_leaf_reg': 1.3398175064022961, 'border_count': 105, 'random_strength': 0.15724415339229464, 'bagging_temperature': 0.5474707772341887, 'min_data_in_leaf': 118, 'one_hot_max_size': 13, 'leaf_estimation_iterations': 10}. Best is trial 14 with value: 0.7576888493216979.\n",
      "Default metric period is 5 because AUC is/are not implemented for GPU\n",
      "[I 2024-12-29 19:02:17,768] Trial 24 finished with value: 0.7569790746492259 and parameters: {'iterations': 1997, 'max_depth': 6, 'learning_rate': 0.08432976747738252, 'l2_leaf_reg': 3.6701758239392546, 'border_count': 197, 'random_strength': 0.022290336105490582, 'bagging_temperature': 1.2748044739979447, 'min_data_in_leaf': 153, 'one_hot_max_size': 12, 'leaf_estimation_iterations': 9}. Best is trial 14 with value: 0.7576888493216979.\n",
      "Default metric period is 5 because AUC is/are not implemented for GPU\n",
      "[I 2024-12-29 19:03:34,922] Trial 25 finished with value: 0.7562715390066621 and parameters: {'iterations': 2082, 'max_depth': 6, 'learning_rate': 0.1286978452938296, 'l2_leaf_reg': 3.6423156306417868, 'border_count': 191, 'random_strength': 0.0220479966206216, 'bagging_temperature': 1.7591477980694288, 'min_data_in_leaf': 147, 'one_hot_max_size': 11, 'leaf_estimation_iterations': 9}. Best is trial 14 with value: 0.7576888493216979.\n",
      "Default metric period is 5 because AUC is/are not implemented for GPU\n",
      "[I 2024-12-29 19:04:34,838] Trial 26 finished with value: 0.756825155588617 and parameters: {'iterations': 1425, 'max_depth': 6, 'learning_rate': 0.10474714802821193, 'l2_leaf_reg': 9.426920644600965, 'border_count': 161, 'random_strength': 0.012179846857383478, 'bagging_temperature': 1.1874892930014473, 'min_data_in_leaf': 99, 'one_hot_max_size': 10, 'leaf_estimation_iterations': 8}. Best is trial 14 with value: 0.7576888493216979.\n",
      "Default metric period is 5 because AUC is/are not implemented for GPU\n",
      "[I 2024-12-29 19:05:58,444] Trial 27 finished with value: 0.7545127902674347 and parameters: {'iterations': 1924, 'max_depth': 6, 'learning_rate': 0.053021413698777366, 'l2_leaf_reg': 2.8089566729261772, 'border_count': 178, 'random_strength': 0.0028601284787183818, 'bagging_temperature': 2.36999025373928, 'min_data_in_leaf': 155, 'one_hot_max_size': 12, 'leaf_estimation_iterations': 9}. Best is trial 14 with value: 0.7576888493216979.\n",
      "Default metric period is 5 because AUC is/are not implemented for GPU\n",
      "[I 2024-12-29 19:07:43,843] Trial 28 finished with value: 0.756596982336597 and parameters: {'iterations': 2346, 'max_depth': 6, 'learning_rate': 0.07975089764645903, 'l2_leaf_reg': 0.3476031080178387, 'border_count': 210, 'random_strength': 0.03681261605807443, 'bagging_temperature': 1.9072211813478144, 'min_data_in_leaf': 197, 'one_hot_max_size': 10, 'leaf_estimation_iterations': 10}. Best is trial 14 with value: 0.7576888493216979.\n",
      "Default metric period is 5 because AUC is/are not implemented for GPU\n",
      "[I 2024-12-29 19:08:55,460] Trial 29 finished with value: 0.7558241161943091 and parameters: {'iterations': 1627, 'max_depth': 6, 'learning_rate': 0.13962883412574636, 'l2_leaf_reg': 4.804274397738403, 'border_count': 46, 'random_strength': 9.397923766179346, 'bagging_temperature': 2.699144244310522, 'min_data_in_leaf': 135, 'one_hot_max_size': 12, 'leaf_estimation_iterations': 8}. Best is trial 14 with value: 0.7576888493216979.\n",
      "Default metric period is 5 because AUC is/are not implemented for GPU\n",
      "[I 2024-12-29 19:11:38,289] Trial 30 finished with value: 0.752621978172313 and parameters: {'iterations': 4885, 'max_depth': 3, 'learning_rate': 0.0308971466611926, 'l2_leaf_reg': 0.76443540125061, 'border_count': 233, 'random_strength': 2.3634989225239518, 'bagging_temperature': 0.27743331220519596, 'min_data_in_leaf': 125, 'one_hot_max_size': 11, 'leaf_estimation_iterations': 9}. Best is trial 14 with value: 0.7576888493216979.\n",
      "Default metric period is 5 because AUC is/are not implemented for GPU\n",
      "[I 2024-12-29 19:13:40,531] Trial 31 finished with value: 0.7571935172029369 and parameters: {'iterations': 2671, 'max_depth': 5, 'learning_rate': 0.07501392841359818, 'l2_leaf_reg': 1.0948127048062746, 'border_count': 253, 'random_strength': 0.21452510095192975, 'bagging_temperature': 0.585645843402673, 'min_data_in_leaf': 169, 'one_hot_max_size': 13, 'leaf_estimation_iterations': 10}. Best is trial 14 with value: 0.7576888493216979.\n",
      "Default metric period is 5 because AUC is/are not implemented for GPU\n",
      "[I 2024-12-29 19:15:41,335] Trial 32 finished with value: 0.7565057757974597 and parameters: {'iterations': 3199, 'max_depth': 5, 'learning_rate': 0.04896594101867223, 'l2_leaf_reg': 0.9024860871667088, 'border_count': 129, 'random_strength': 0.06353360038362012, 'bagging_temperature': 1.1622701753378553, 'min_data_in_leaf': 171, 'one_hot_max_size': 13, 'leaf_estimation_iterations': 10}. Best is trial 14 with value: 0.7576888493216979.\n",
      "Default metric period is 5 because AUC is/are not implemented for GPU\n",
      "[I 2024-12-29 19:16:59,262] Trial 33 finished with value: 0.7555247804450002 and parameters: {'iterations': 2261, 'max_depth': 4, 'learning_rate': 0.0981492465745171, 'l2_leaf_reg': 4.909925339083529, 'border_count': 203, 'random_strength': 0.11421800886579347, 'bagging_temperature': 1.5231757907475585, 'min_data_in_leaf': 142, 'one_hot_max_size': 14, 'leaf_estimation_iterations': 10}. Best is trial 14 with value: 0.7576888493216979.\n",
      "Default metric period is 5 because AUC is/are not implemented for GPU\n",
      "[I 2024-12-29 19:19:05,754] Trial 34 finished with value: 0.7567827573689292 and parameters: {'iterations': 3552, 'max_depth': 4, 'learning_rate': 0.07385790255454301, 'l2_leaf_reg': 0.12941048005497005, 'border_count': 232, 'random_strength': 0.8343235214368596, 'bagging_temperature': 0.40050036771287834, 'min_data_in_leaf': 209, 'one_hot_max_size': 12, 'leaf_estimation_iterations': 9}. Best is trial 14 with value: 0.7576888493216979.\n",
      "Default metric period is 5 because AUC is/are not implemented for GPU\n",
      "[I 2024-12-29 19:20:04,906] Trial 35 finished with value: 0.756385997843796 and parameters: {'iterations': 1695, 'max_depth': 5, 'learning_rate': 0.16094980718101823, 'l2_leaf_reg': 0.7179400490523032, 'border_count': 104, 'random_strength': 0.3915047014642612, 'bagging_temperature': 0.9867785006597306, 'min_data_in_leaf': 227, 'one_hot_max_size': 13, 'leaf_estimation_iterations': 10}. Best is trial 14 with value: 0.7576888493216979.\n",
      "Default metric period is 5 because AUC is/are not implemented for GPU\n",
      "[I 2024-12-29 19:21:40,984] Trial 36 finished with value: 0.7567101799336384 and parameters: {'iterations': 2921, 'max_depth': 4, 'learning_rate': 0.1438843258291323, 'l2_leaf_reg': 0.05110376370047421, 'border_count': 176, 'random_strength': 1.2902621652616222, 'bagging_temperature': 1.289244764162416, 'min_data_in_leaf': 162, 'one_hot_max_size': 12, 'leaf_estimation_iterations': 10}. Best is trial 14 with value: 0.7576888493216979.\n",
      "Default metric period is 5 because AUC is/are not implemented for GPU\n",
      "[I 2024-12-29 19:24:32,652] Trial 37 finished with value: 0.7566660359622022 and parameters: {'iterations': 3342, 'max_depth': 6, 'learning_rate': 0.03281369531223928, 'l2_leaf_reg': 0.007371795629005705, 'border_count': 234, 'random_strength': 0.006556828401698546, 'bagging_temperature': 0.0007763366912990621, 'min_data_in_leaf': 193, 'one_hot_max_size': 14, 'leaf_estimation_iterations': 9}. Best is trial 14 with value: 0.7576888493216979.\n",
      "Default metric period is 5 because AUC is/are not implemented for GPU\n",
      "[I 2024-12-29 19:25:54,356] Trial 38 finished with value: 0.7561863829377188 and parameters: {'iterations': 2218, 'max_depth': 5, 'learning_rate': 0.08736993662518436, 'l2_leaf_reg': 2.1004302236553674, 'border_count': 154, 'random_strength': 0.025123747887762643, 'bagging_temperature': 1.6171682094988953, 'min_data_in_leaf': 115, 'one_hot_max_size': 9, 'leaf_estimation_iterations': 8}. Best is trial 14 with value: 0.7576888493216979.\n",
      "Default metric period is 5 because AUC is/are not implemented for GPU\n",
      "[I 2024-12-29 19:27:18,635] Trial 39 finished with value: 0.7565443891198858 and parameters: {'iterations': 2528, 'max_depth': 4, 'learning_rate': 0.10668008609077452, 'l2_leaf_reg': 0.2990263967893784, 'border_count': 218, 'random_strength': 0.2705383975618263, 'bagging_temperature': 0.7306670772251384, 'min_data_in_leaf': 132, 'one_hot_max_size': 13, 'leaf_estimation_iterations': 9}. Best is trial 14 with value: 0.7576888493216979.\n",
      "Default metric period is 5 because AUC is/are not implemented for GPU\n",
      "[I 2024-12-29 19:29:22,942] Trial 40 finished with value: 0.7559498647455801 and parameters: {'iterations': 3051, 'max_depth': 5, 'learning_rate': 0.06859192411390377, 'l2_leaf_reg': 1.143570215984556, 'border_count': 115, 'random_strength': 0.10628899297734902, 'bagging_temperature': 2.1069153879459375, 'min_data_in_leaf': 167, 'one_hot_max_size': 12, 'leaf_estimation_iterations': 10}. Best is trial 14 with value: 0.7576888493216979.\n",
      "Default metric period is 5 because AUC is/are not implemented for GPU\n",
      "[I 2024-12-29 19:31:30,661] Trial 41 finished with value: 0.7567675825921119 and parameters: {'iterations': 2751, 'max_depth': 5, 'learning_rate': 0.054828168849256086, 'l2_leaf_reg': 2.9435276867654054, 'border_count': 254, 'random_strength': 0.20236432914595426, 'bagging_temperature': 0.4420751157555194, 'min_data_in_leaf': 181, 'one_hot_max_size': 13, 'leaf_estimation_iterations': 10}. Best is trial 14 with value: 0.7576888493216979.\n",
      "Default metric period is 5 because AUC is/are not implemented for GPU\n",
      "[I 2024-12-29 19:33:32,649] Trial 42 finished with value: 0.7572345338054527 and parameters: {'iterations': 2691, 'max_depth': 5, 'learning_rate': 0.0782035263137973, 'l2_leaf_reg': 0.5814251843106989, 'border_count': 240, 'random_strength': 0.23196432410595338, 'bagging_temperature': 0.6366603532550289, 'min_data_in_leaf': 203, 'one_hot_max_size': 13, 'leaf_estimation_iterations': 10}. Best is trial 14 with value: 0.7576888493216979.\n",
      "Default metric period is 5 because AUC is/are not implemented for GPU\n",
      "[I 2024-12-29 19:35:05,989] Trial 43 finished with value: 0.7571166061116222 and parameters: {'iterations': 2463, 'max_depth': 5, 'learning_rate': 0.08180120482545511, 'l2_leaf_reg': 0.5953376832128869, 'border_count': 228, 'random_strength': 0.7241577860496298, 'bagging_temperature': 0.7553042715373205, 'min_data_in_leaf': 206, 'one_hot_max_size': 14, 'leaf_estimation_iterations': 10}. Best is trial 14 with value: 0.7576888493216979.\n",
      "Default metric period is 5 because AUC is/are not implemented for GPU\n",
      "[I 2024-12-29 19:36:42,990] Trial 44 finished with value: 0.7558243672978118 and parameters: {'iterations': 2474, 'max_depth': 5, 'learning_rate': 0.0481036997756164, 'l2_leaf_reg': 0.16385647253800356, 'border_count': 242, 'random_strength': 1.967347255727275, 'bagging_temperature': 0.6968498753804546, 'min_data_in_leaf': 231, 'one_hot_max_size': 15, 'leaf_estimation_iterations': 10}. Best is trial 14 with value: 0.7576888493216979.\n",
      "Default metric period is 5 because AUC is/are not implemented for GPU\n",
      "[I 2024-12-29 19:38:19,711] Trial 45 finished with value: 0.7571652579733374 and parameters: {'iterations': 3179, 'max_depth': 5, 'learning_rate': 0.12333591174180014, 'l2_leaf_reg': 0.6598905555579326, 'border_count': 225, 'random_strength': 0.8118930654407576, 'bagging_temperature': 0.2327648544955604, 'min_data_in_leaf': 207, 'one_hot_max_size': 14, 'leaf_estimation_iterations': 6}. Best is trial 14 with value: 0.7576888493216979.\n",
      "Default metric period is 5 because AUC is/are not implemented for GPU\n",
      "[I 2024-12-29 19:39:41,842] Trial 46 finished with value: 0.7566249299494686 and parameters: {'iterations': 3834, 'max_depth': 4, 'learning_rate': 0.16453614715773265, 'l2_leaf_reg': 0.3779336433276332, 'border_count': 215, 'random_strength': 1.1638212487381132, 'bagging_temperature': 0.19220501134751267, 'min_data_in_leaf': 223, 'one_hot_max_size': 15, 'leaf_estimation_iterations': 7}. Best is trial 14 with value: 0.7576888493216979.\n",
      "Default metric period is 5 because AUC is/are not implemented for GPU\n",
      "[I 2024-12-29 19:41:03,643] Trial 47 finished with value: 0.7567184049837059 and parameters: {'iterations': 3097, 'max_depth': 5, 'learning_rate': 0.13302529055583068, 'l2_leaf_reg': 0.06911067218378547, 'border_count': 241, 'random_strength': 0.4458620983472118, 'bagging_temperature': 0.26999999609740627, 'min_data_in_leaf': 189, 'one_hot_max_size': 14, 'leaf_estimation_iterations': 6}. Best is trial 14 with value: 0.7576888493216979.\n",
      "Default metric period is 5 because AUC is/are not implemented for GPU\n",
      "[I 2024-12-29 19:42:49,215] Trial 48 finished with value: 0.7572077621216079 and parameters: {'iterations': 3325, 'max_depth': 5, 'learning_rate': 0.1192263161555739, 'l2_leaf_reg': 0.4872004863136421, 'border_count': 76, 'random_strength': 4.171180337928192, 'bagging_temperature': 0.5022245526268196, 'min_data_in_leaf': 240, 'one_hot_max_size': 13, 'leaf_estimation_iterations': 6}. Best is trial 14 with value: 0.7576888493216979.\n",
      "Default metric period is 5 because AUC is/are not implemented for GPU\n",
      "[I 2024-12-29 19:44:42,941] Trial 49 finished with value: 0.757654680860015 and parameters: {'iterations': 3789, 'max_depth': 5, 'learning_rate': 0.09662189905045075, 'l2_leaf_reg': 0.48459926362425576, 'border_count': 79, 'random_strength': 2.4406656329156604, 'bagging_temperature': 1.0110351640807897, 'min_data_in_leaf': 264, 'one_hot_max_size': 13, 'leaf_estimation_iterations': 7}. Best is trial 14 with value: 0.7576888493216979.\n"
     ]
    },
    {
     "name": "stdout",
     "output_type": "stream",
     "text": [
      "Number of finished trials: 50\n",
      "Best trial: {'iterations': 2469, 'max_depth': 6, 'learning_rate': 0.07946271043446697, 'l2_leaf_reg': 0.08241511795199756, 'border_count': 180, 'random_strength': 0.3570390803964154, 'bagging_temperature': 1.0490594249880318, 'min_data_in_leaf': 163, 'one_hot_max_size': 13, 'leaf_estimation_iterations': 10}\n",
      "Best score: 0.7576888493216979\n"
     ]
    }
   ],
   "source": [
    "import optuna\n",
    "from optuna.visualization import plot_optimization_history, plot_param_importances\n",
    "\n",
    "\n",
    "def objective(trial):\n",
    "    params = {\n",
    "        # \"cat_features\": [i for i in X.columns if X[i].dtype == 'category'],\n",
    "        \"iterations\": trial.suggest_int(\"iterations\", 1000, 5000),\n",
    "        \"max_depth\": trial.suggest_int(\"max_depth\", 3, 6),\n",
    "        \"learning_rate\": trial.suggest_float(\"learning_rate\", .01, .2, log=True),\n",
    "        \"l2_leaf_reg\": trial.suggest_float(\"l2_leaf_reg\", 1e-3, 10, log=True),\n",
    "        \"border_count\": trial.suggest_int(\"border_count\", 32, 255),\n",
    "        \"random_strength\": trial.suggest_float(\"random_strength\", 1e-3, 10, log=True),\n",
    "        \"bagging_temperature\": trial.suggest_float(\"bagging_temperature\", 0, 5),\n",
    "        \"eval_metric\": \"AUC\",\n",
    "        \"logging_level\": 'Silent',\n",
    "        \"random_seed\": 137,\n",
    "        \"task_type\": \"GPU\",  # Для GPU: \"GPU\"\n",
    "        \"min_data_in_leaf\": trial.suggest_int(\"min_data_in_leaf\", 80, 300),\n",
    "        \"grow_policy\": \"SymmetricTree\",\n",
    "        \"one_hot_max_size\": trial.suggest_int(\"one_hot_max_size\", 8, 15),\n",
    "        \"leaf_estimation_iterations\": trial.suggest_int(\"leaf_estimation_iterations\", 5, 10),\n",
    "        \"leaf_estimation_method\": \"Gradient\",\n",
    "        \"auto_class_weights\": \"SqrtBalanced\",\n",
    "    }\n",
    "    \n",
    "    # Модель\n",
    "    model = CatBoostClassifier(**params)\n",
    "    model.fit(X_train, y_train, eval_set=(X_test, y_test), early_stopping_rounds=50, verbose=0)\n",
    "    \n",
    "    # Оценка качества\n",
    "    y_pred = model.predict_proba(X_test)[:, 1]\n",
    "    auc_score = roc_auc_score(y_test, y_pred)\n",
    "    return auc_score\n",
    "\n",
    "# Запуск Optuna\n",
    "study = optuna.create_study(direction=\"maximize\")\n",
    "study.optimize(objective, n_trials=50)\n",
    "\n",
    "print('Number of finished trials:', len(study.trials))\n",
    "print('Best trial:', study.best_trial.params)\n",
    "print('Best score:', study.best_trial.value)"
   ]
  },
  {
   "cell_type": "code",
   "execution_count": null,
   "metadata": {},
   "outputs": [],
   "source": [
    "df_optuna = study.trials_dataframe()\n",
    "df_optuna.to_csv(\"data/optuna_report.csv\", index=False)"
   ]
  },
  {
   "cell_type": "code",
   "execution_count": null,
   "metadata": {},
   "outputs": [
    {
     "name": "stdout",
     "output_type": "stream",
     "text": [
      "Среднее значение скоров: 75.46%\n"
     ]
    }
   ],
   "source": [
    "values = [trial.value for trial in study.trials if trial.value is not None]\n",
    "\n",
    "# Вычисление среднего значения\n",
    "average_score = sum(values) / len(values)\n",
    "\n",
    "# Вывод\n",
    "print(f\"Среднее значение скоров: {average_score:.2%}\")"
   ]
  },
  {
   "cell_type": "code",
   "execution_count": null,
   "metadata": {},
   "outputs": [
    {
     "data": {
      "text/html": [
       "<div>\n",
       "<style scoped>\n",
       "    .dataframe tbody tr th:only-of-type {\n",
       "        vertical-align: middle;\n",
       "    }\n",
       "\n",
       "    .dataframe tbody tr th {\n",
       "        vertical-align: top;\n",
       "    }\n",
       "\n",
       "    .dataframe thead th {\n",
       "        text-align: right;\n",
       "    }\n",
       "</style>\n",
       "<table border=\"1\" class=\"dataframe\">\n",
       "  <thead>\n",
       "    <tr style=\"text-align: right;\">\n",
       "      <th></th>\n",
       "      <th>iterations</th>\n",
       "      <th>max_depth</th>\n",
       "      <th>learning_rate</th>\n",
       "      <th>l2_leaf_reg</th>\n",
       "      <th>border_count</th>\n",
       "      <th>random_strength</th>\n",
       "      <th>bagging_temperature</th>\n",
       "      <th>min_data_in_leaf</th>\n",
       "      <th>one_hot_max_size</th>\n",
       "      <th>leaf_estimation_iterations</th>\n",
       "    </tr>\n",
       "  </thead>\n",
       "  <tbody>\n",
       "    <tr>\n",
       "      <th>0</th>\n",
       "      <td>2469</td>\n",
       "      <td>6</td>\n",
       "      <td>0.079463</td>\n",
       "      <td>0.082415</td>\n",
       "      <td>180</td>\n",
       "      <td>0.357039</td>\n",
       "      <td>1.049059</td>\n",
       "      <td>163</td>\n",
       "      <td>13</td>\n",
       "      <td>10</td>\n",
       "    </tr>\n",
       "  </tbody>\n",
       "</table>\n",
       "</div>"
      ],
      "text/plain": [
       "   iterations  max_depth  learning_rate  l2_leaf_reg  border_count  \\\n",
       "0        2469          6       0.079463     0.082415           180   \n",
       "\n",
       "   random_strength  bagging_temperature  min_data_in_leaf  one_hot_max_size  \\\n",
       "0         0.357039             1.049059               163                13   \n",
       "\n",
       "   leaf_estimation_iterations  \n",
       "0                          10  "
      ]
     },
     "execution_count": 118,
     "metadata": {},
     "output_type": "execute_result"
    }
   ],
   "source": [
    "best_params = study.best_trial.params\n",
    "bp = pd.DataFrame([best_params])\n",
    "bp.to_csv('data/best_params_3M_pl.csv', index=False)\n",
    "bp"
   ]
  },
  {
   "cell_type": "code",
   "execution_count": null,
   "metadata": {},
   "outputs": [
    {
     "data": {
      "application/vnd.plotly.v1+json": {
       "config": {
        "plotlyServerURL": "https://plot.ly"
       },
       "data": [
        {
         "cliponaxis": false,
         "hovertemplate": [
          "leaf_estimation_iterations (IntDistribution): 0.0016512849268316898<extra></extra>",
          "one_hot_max_size (IntDistribution): 0.002429102189710821<extra></extra>",
          "l2_leaf_reg (FloatDistribution): 0.004625767159797119<extra></extra>",
          "border_count (IntDistribution): 0.0071599530171177405<extra></extra>",
          "random_strength (FloatDistribution): 0.008523616113851402<extra></extra>",
          "min_data_in_leaf (IntDistribution): 0.008595745518087746<extra></extra>",
          "max_depth (IntDistribution): 0.020300127748895624<extra></extra>",
          "iterations (IntDistribution): 0.02504618908080054<extra></extra>",
          "bagging_temperature (FloatDistribution): 0.4225953529610121<extra></extra>",
          "learning_rate (FloatDistribution): 0.49907286128389505<extra></extra>"
         ],
         "name": "Objective Value",
         "orientation": "h",
         "text": [
          "<0.01",
          "<0.01",
          "<0.01",
          "<0.01",
          "<0.01",
          "<0.01",
          "0.02",
          "0.03",
          "0.42",
          "0.50"
         ],
         "textposition": "outside",
         "type": "bar",
         "x": [
          0.0016512849268316898,
          0.002429102189710821,
          0.004625767159797119,
          0.0071599530171177405,
          0.008523616113851402,
          0.008595745518087746,
          0.020300127748895624,
          0.02504618908080054,
          0.4225953529610121,
          0.49907286128389505
         ],
         "y": [
          "leaf_estimation_iterations",
          "one_hot_max_size",
          "l2_leaf_reg",
          "border_count",
          "random_strength",
          "min_data_in_leaf",
          "max_depth",
          "iterations",
          "bagging_temperature",
          "learning_rate"
         ]
        }
       ],
       "layout": {
        "template": {
         "data": {
          "bar": [
           {
            "error_x": {
             "color": "#2a3f5f"
            },
            "error_y": {
             "color": "#2a3f5f"
            },
            "marker": {
             "line": {
              "color": "#E5ECF6",
              "width": 0.5
             },
             "pattern": {
              "fillmode": "overlay",
              "size": 10,
              "solidity": 0.2
             }
            },
            "type": "bar"
           }
          ],
          "barpolar": [
           {
            "marker": {
             "line": {
              "color": "#E5ECF6",
              "width": 0.5
             },
             "pattern": {
              "fillmode": "overlay",
              "size": 10,
              "solidity": 0.2
             }
            },
            "type": "barpolar"
           }
          ],
          "carpet": [
           {
            "aaxis": {
             "endlinecolor": "#2a3f5f",
             "gridcolor": "white",
             "linecolor": "white",
             "minorgridcolor": "white",
             "startlinecolor": "#2a3f5f"
            },
            "baxis": {
             "endlinecolor": "#2a3f5f",
             "gridcolor": "white",
             "linecolor": "white",
             "minorgridcolor": "white",
             "startlinecolor": "#2a3f5f"
            },
            "type": "carpet"
           }
          ],
          "choropleth": [
           {
            "colorbar": {
             "outlinewidth": 0,
             "ticks": ""
            },
            "type": "choropleth"
           }
          ],
          "contour": [
           {
            "colorbar": {
             "outlinewidth": 0,
             "ticks": ""
            },
            "colorscale": [
             [
              0,
              "#0d0887"
             ],
             [
              0.1111111111111111,
              "#46039f"
             ],
             [
              0.2222222222222222,
              "#7201a8"
             ],
             [
              0.3333333333333333,
              "#9c179e"
             ],
             [
              0.4444444444444444,
              "#bd3786"
             ],
             [
              0.5555555555555556,
              "#d8576b"
             ],
             [
              0.6666666666666666,
              "#ed7953"
             ],
             [
              0.7777777777777778,
              "#fb9f3a"
             ],
             [
              0.8888888888888888,
              "#fdca26"
             ],
             [
              1,
              "#f0f921"
             ]
            ],
            "type": "contour"
           }
          ],
          "contourcarpet": [
           {
            "colorbar": {
             "outlinewidth": 0,
             "ticks": ""
            },
            "type": "contourcarpet"
           }
          ],
          "heatmap": [
           {
            "colorbar": {
             "outlinewidth": 0,
             "ticks": ""
            },
            "colorscale": [
             [
              0,
              "#0d0887"
             ],
             [
              0.1111111111111111,
              "#46039f"
             ],
             [
              0.2222222222222222,
              "#7201a8"
             ],
             [
              0.3333333333333333,
              "#9c179e"
             ],
             [
              0.4444444444444444,
              "#bd3786"
             ],
             [
              0.5555555555555556,
              "#d8576b"
             ],
             [
              0.6666666666666666,
              "#ed7953"
             ],
             [
              0.7777777777777778,
              "#fb9f3a"
             ],
             [
              0.8888888888888888,
              "#fdca26"
             ],
             [
              1,
              "#f0f921"
             ]
            ],
            "type": "heatmap"
           }
          ],
          "heatmapgl": [
           {
            "colorbar": {
             "outlinewidth": 0,
             "ticks": ""
            },
            "colorscale": [
             [
              0,
              "#0d0887"
             ],
             [
              0.1111111111111111,
              "#46039f"
             ],
             [
              0.2222222222222222,
              "#7201a8"
             ],
             [
              0.3333333333333333,
              "#9c179e"
             ],
             [
              0.4444444444444444,
              "#bd3786"
             ],
             [
              0.5555555555555556,
              "#d8576b"
             ],
             [
              0.6666666666666666,
              "#ed7953"
             ],
             [
              0.7777777777777778,
              "#fb9f3a"
             ],
             [
              0.8888888888888888,
              "#fdca26"
             ],
             [
              1,
              "#f0f921"
             ]
            ],
            "type": "heatmapgl"
           }
          ],
          "histogram": [
           {
            "marker": {
             "pattern": {
              "fillmode": "overlay",
              "size": 10,
              "solidity": 0.2
             }
            },
            "type": "histogram"
           }
          ],
          "histogram2d": [
           {
            "colorbar": {
             "outlinewidth": 0,
             "ticks": ""
            },
            "colorscale": [
             [
              0,
              "#0d0887"
             ],
             [
              0.1111111111111111,
              "#46039f"
             ],
             [
              0.2222222222222222,
              "#7201a8"
             ],
             [
              0.3333333333333333,
              "#9c179e"
             ],
             [
              0.4444444444444444,
              "#bd3786"
             ],
             [
              0.5555555555555556,
              "#d8576b"
             ],
             [
              0.6666666666666666,
              "#ed7953"
             ],
             [
              0.7777777777777778,
              "#fb9f3a"
             ],
             [
              0.8888888888888888,
              "#fdca26"
             ],
             [
              1,
              "#f0f921"
             ]
            ],
            "type": "histogram2d"
           }
          ],
          "histogram2dcontour": [
           {
            "colorbar": {
             "outlinewidth": 0,
             "ticks": ""
            },
            "colorscale": [
             [
              0,
              "#0d0887"
             ],
             [
              0.1111111111111111,
              "#46039f"
             ],
             [
              0.2222222222222222,
              "#7201a8"
             ],
             [
              0.3333333333333333,
              "#9c179e"
             ],
             [
              0.4444444444444444,
              "#bd3786"
             ],
             [
              0.5555555555555556,
              "#d8576b"
             ],
             [
              0.6666666666666666,
              "#ed7953"
             ],
             [
              0.7777777777777778,
              "#fb9f3a"
             ],
             [
              0.8888888888888888,
              "#fdca26"
             ],
             [
              1,
              "#f0f921"
             ]
            ],
            "type": "histogram2dcontour"
           }
          ],
          "mesh3d": [
           {
            "colorbar": {
             "outlinewidth": 0,
             "ticks": ""
            },
            "type": "mesh3d"
           }
          ],
          "parcoords": [
           {
            "line": {
             "colorbar": {
              "outlinewidth": 0,
              "ticks": ""
             }
            },
            "type": "parcoords"
           }
          ],
          "pie": [
           {
            "automargin": true,
            "type": "pie"
           }
          ],
          "scatter": [
           {
            "fillpattern": {
             "fillmode": "overlay",
             "size": 10,
             "solidity": 0.2
            },
            "type": "scatter"
           }
          ],
          "scatter3d": [
           {
            "line": {
             "colorbar": {
              "outlinewidth": 0,
              "ticks": ""
             }
            },
            "marker": {
             "colorbar": {
              "outlinewidth": 0,
              "ticks": ""
             }
            },
            "type": "scatter3d"
           }
          ],
          "scattercarpet": [
           {
            "marker": {
             "colorbar": {
              "outlinewidth": 0,
              "ticks": ""
             }
            },
            "type": "scattercarpet"
           }
          ],
          "scattergeo": [
           {
            "marker": {
             "colorbar": {
              "outlinewidth": 0,
              "ticks": ""
             }
            },
            "type": "scattergeo"
           }
          ],
          "scattergl": [
           {
            "marker": {
             "colorbar": {
              "outlinewidth": 0,
              "ticks": ""
             }
            },
            "type": "scattergl"
           }
          ],
          "scattermapbox": [
           {
            "marker": {
             "colorbar": {
              "outlinewidth": 0,
              "ticks": ""
             }
            },
            "type": "scattermapbox"
           }
          ],
          "scatterpolar": [
           {
            "marker": {
             "colorbar": {
              "outlinewidth": 0,
              "ticks": ""
             }
            },
            "type": "scatterpolar"
           }
          ],
          "scatterpolargl": [
           {
            "marker": {
             "colorbar": {
              "outlinewidth": 0,
              "ticks": ""
             }
            },
            "type": "scatterpolargl"
           }
          ],
          "scatterternary": [
           {
            "marker": {
             "colorbar": {
              "outlinewidth": 0,
              "ticks": ""
             }
            },
            "type": "scatterternary"
           }
          ],
          "surface": [
           {
            "colorbar": {
             "outlinewidth": 0,
             "ticks": ""
            },
            "colorscale": [
             [
              0,
              "#0d0887"
             ],
             [
              0.1111111111111111,
              "#46039f"
             ],
             [
              0.2222222222222222,
              "#7201a8"
             ],
             [
              0.3333333333333333,
              "#9c179e"
             ],
             [
              0.4444444444444444,
              "#bd3786"
             ],
             [
              0.5555555555555556,
              "#d8576b"
             ],
             [
              0.6666666666666666,
              "#ed7953"
             ],
             [
              0.7777777777777778,
              "#fb9f3a"
             ],
             [
              0.8888888888888888,
              "#fdca26"
             ],
             [
              1,
              "#f0f921"
             ]
            ],
            "type": "surface"
           }
          ],
          "table": [
           {
            "cells": {
             "fill": {
              "color": "#EBF0F8"
             },
             "line": {
              "color": "white"
             }
            },
            "header": {
             "fill": {
              "color": "#C8D4E3"
             },
             "line": {
              "color": "white"
             }
            },
            "type": "table"
           }
          ]
         },
         "layout": {
          "annotationdefaults": {
           "arrowcolor": "#2a3f5f",
           "arrowhead": 0,
           "arrowwidth": 1
          },
          "autotypenumbers": "strict",
          "coloraxis": {
           "colorbar": {
            "outlinewidth": 0,
            "ticks": ""
           }
          },
          "colorscale": {
           "diverging": [
            [
             0,
             "#8e0152"
            ],
            [
             0.1,
             "#c51b7d"
            ],
            [
             0.2,
             "#de77ae"
            ],
            [
             0.3,
             "#f1b6da"
            ],
            [
             0.4,
             "#fde0ef"
            ],
            [
             0.5,
             "#f7f7f7"
            ],
            [
             0.6,
             "#e6f5d0"
            ],
            [
             0.7,
             "#b8e186"
            ],
            [
             0.8,
             "#7fbc41"
            ],
            [
             0.9,
             "#4d9221"
            ],
            [
             1,
             "#276419"
            ]
           ],
           "sequential": [
            [
             0,
             "#0d0887"
            ],
            [
             0.1111111111111111,
             "#46039f"
            ],
            [
             0.2222222222222222,
             "#7201a8"
            ],
            [
             0.3333333333333333,
             "#9c179e"
            ],
            [
             0.4444444444444444,
             "#bd3786"
            ],
            [
             0.5555555555555556,
             "#d8576b"
            ],
            [
             0.6666666666666666,
             "#ed7953"
            ],
            [
             0.7777777777777778,
             "#fb9f3a"
            ],
            [
             0.8888888888888888,
             "#fdca26"
            ],
            [
             1,
             "#f0f921"
            ]
           ],
           "sequentialminus": [
            [
             0,
             "#0d0887"
            ],
            [
             0.1111111111111111,
             "#46039f"
            ],
            [
             0.2222222222222222,
             "#7201a8"
            ],
            [
             0.3333333333333333,
             "#9c179e"
            ],
            [
             0.4444444444444444,
             "#bd3786"
            ],
            [
             0.5555555555555556,
             "#d8576b"
            ],
            [
             0.6666666666666666,
             "#ed7953"
            ],
            [
             0.7777777777777778,
             "#fb9f3a"
            ],
            [
             0.8888888888888888,
             "#fdca26"
            ],
            [
             1,
             "#f0f921"
            ]
           ]
          },
          "colorway": [
           "#636efa",
           "#EF553B",
           "#00cc96",
           "#ab63fa",
           "#FFA15A",
           "#19d3f3",
           "#FF6692",
           "#B6E880",
           "#FF97FF",
           "#FECB52"
          ],
          "font": {
           "color": "#2a3f5f"
          },
          "geo": {
           "bgcolor": "white",
           "lakecolor": "white",
           "landcolor": "#E5ECF6",
           "showlakes": true,
           "showland": true,
           "subunitcolor": "white"
          },
          "hoverlabel": {
           "align": "left"
          },
          "hovermode": "closest",
          "mapbox": {
           "style": "light"
          },
          "paper_bgcolor": "white",
          "plot_bgcolor": "#E5ECF6",
          "polar": {
           "angularaxis": {
            "gridcolor": "white",
            "linecolor": "white",
            "ticks": ""
           },
           "bgcolor": "#E5ECF6",
           "radialaxis": {
            "gridcolor": "white",
            "linecolor": "white",
            "ticks": ""
           }
          },
          "scene": {
           "xaxis": {
            "backgroundcolor": "#E5ECF6",
            "gridcolor": "white",
            "gridwidth": 2,
            "linecolor": "white",
            "showbackground": true,
            "ticks": "",
            "zerolinecolor": "white"
           },
           "yaxis": {
            "backgroundcolor": "#E5ECF6",
            "gridcolor": "white",
            "gridwidth": 2,
            "linecolor": "white",
            "showbackground": true,
            "ticks": "",
            "zerolinecolor": "white"
           },
           "zaxis": {
            "backgroundcolor": "#E5ECF6",
            "gridcolor": "white",
            "gridwidth": 2,
            "linecolor": "white",
            "showbackground": true,
            "ticks": "",
            "zerolinecolor": "white"
           }
          },
          "shapedefaults": {
           "line": {
            "color": "#2a3f5f"
           }
          },
          "ternary": {
           "aaxis": {
            "gridcolor": "white",
            "linecolor": "white",
            "ticks": ""
           },
           "baxis": {
            "gridcolor": "white",
            "linecolor": "white",
            "ticks": ""
           },
           "bgcolor": "#E5ECF6",
           "caxis": {
            "gridcolor": "white",
            "linecolor": "white",
            "ticks": ""
           }
          },
          "title": {
           "x": 0.05
          },
          "xaxis": {
           "automargin": true,
           "gridcolor": "white",
           "linecolor": "white",
           "ticks": "",
           "title": {
            "standoff": 15
           },
           "zerolinecolor": "white",
           "zerolinewidth": 2
          },
          "yaxis": {
           "automargin": true,
           "gridcolor": "white",
           "linecolor": "white",
           "ticks": "",
           "title": {
            "standoff": 15
           },
           "zerolinecolor": "white",
           "zerolinewidth": 2
          }
         }
        },
        "title": {
         "text": "Hyperparameter Importances"
        },
        "xaxis": {
         "title": {
          "text": "Hyperparameter Importance"
         }
        },
        "yaxis": {
         "title": {
          "text": "Hyperparameter"
         }
        }
       }
      }
     },
     "metadata": {},
     "output_type": "display_data"
    }
   ],
   "source": [
    "plot_param_importances(study)"
   ]
  },
  {
   "cell_type": "code",
   "execution_count": null,
   "metadata": {},
   "outputs": [
    {
     "data": {
      "application/vnd.plotly.v1+json": {
       "config": {
        "plotlyServerURL": "https://plot.ly"
       },
       "data": [
        {
         "mode": "markers",
         "name": "Objective Value",
         "type": "scatter",
         "x": [
          0,
          1,
          2,
          3,
          4,
          5,
          6,
          7,
          8,
          9,
          10,
          11,
          12,
          13,
          14,
          15,
          16,
          17,
          18,
          19,
          20,
          21,
          22,
          23,
          24,
          25,
          26,
          27,
          28,
          29,
          30,
          31,
          32,
          33,
          34,
          35,
          36,
          37,
          38,
          39,
          40,
          41,
          42,
          43,
          44,
          45,
          46,
          47,
          48,
          49
         ],
         "y": [
          0.747543576757561,
          0.7567464066972678,
          0.7483388424930463,
          0.7467403966146797,
          0.7467970832202845,
          0.7565119843488147,
          0.745489206547231,
          0.7567743966409871,
          0.7487761736394759,
          0.7440308101064371,
          0.7522981753555,
          0.7545931721635578,
          0.7566004096741593,
          0.7572087695389581,
          0.7576888493216979,
          0.7541871181561122,
          0.7555338437513707,
          0.7545269838452409,
          0.7568049899115339,
          0.7529424273551293,
          0.7523810696665636,
          0.756774188314774,
          0.7568803362631611,
          0.7490777329149694,
          0.7569790746492259,
          0.7562715390066621,
          0.756825155588617,
          0.7545127902674347,
          0.756596982336597,
          0.7558241161943091,
          0.752621978172313,
          0.7571935172029369,
          0.7565057757974597,
          0.7555247804450002,
          0.7567827573689292,
          0.756385997843796,
          0.7567101799336384,
          0.7566660359622022,
          0.7561863829377188,
          0.7565443891198858,
          0.7559498647455801,
          0.7567675825921119,
          0.7572345338054527,
          0.7571166061116222,
          0.7558243672978118,
          0.7571652579733374,
          0.7566249299494686,
          0.7567184049837059,
          0.7572077621216079,
          0.757654680860015
         ]
        },
        {
         "mode": "lines",
         "name": "Best Value",
         "type": "scatter",
         "x": [
          0,
          1,
          2,
          3,
          4,
          5,
          6,
          7,
          8,
          9,
          10,
          11,
          12,
          13,
          14,
          15,
          16,
          17,
          18,
          19,
          20,
          21,
          22,
          23,
          24,
          25,
          26,
          27,
          28,
          29,
          30,
          31,
          32,
          33,
          34,
          35,
          36,
          37,
          38,
          39,
          40,
          41,
          42,
          43,
          44,
          45,
          46,
          47,
          48,
          49
         ],
         "y": [
          0.747543576757561,
          0.7567464066972678,
          0.7567464066972678,
          0.7567464066972678,
          0.7567464066972678,
          0.7567464066972678,
          0.7567464066972678,
          0.7567743966409871,
          0.7567743966409871,
          0.7567743966409871,
          0.7567743966409871,
          0.7567743966409871,
          0.7567743966409871,
          0.7572087695389581,
          0.7576888493216979,
          0.7576888493216979,
          0.7576888493216979,
          0.7576888493216979,
          0.7576888493216979,
          0.7576888493216979,
          0.7576888493216979,
          0.7576888493216979,
          0.7576888493216979,
          0.7576888493216979,
          0.7576888493216979,
          0.7576888493216979,
          0.7576888493216979,
          0.7576888493216979,
          0.7576888493216979,
          0.7576888493216979,
          0.7576888493216979,
          0.7576888493216979,
          0.7576888493216979,
          0.7576888493216979,
          0.7576888493216979,
          0.7576888493216979,
          0.7576888493216979,
          0.7576888493216979,
          0.7576888493216979,
          0.7576888493216979,
          0.7576888493216979,
          0.7576888493216979,
          0.7576888493216979,
          0.7576888493216979,
          0.7576888493216979,
          0.7576888493216979,
          0.7576888493216979,
          0.7576888493216979,
          0.7576888493216979,
          0.7576888493216979
         ]
        },
        {
         "marker": {
          "color": "#cccccc"
         },
         "mode": "markers",
         "name": "Infeasible Trial",
         "showlegend": false,
         "type": "scatter",
         "x": [],
         "y": []
        }
       ],
       "layout": {
        "template": {
         "data": {
          "bar": [
           {
            "error_x": {
             "color": "#2a3f5f"
            },
            "error_y": {
             "color": "#2a3f5f"
            },
            "marker": {
             "line": {
              "color": "#E5ECF6",
              "width": 0.5
             },
             "pattern": {
              "fillmode": "overlay",
              "size": 10,
              "solidity": 0.2
             }
            },
            "type": "bar"
           }
          ],
          "barpolar": [
           {
            "marker": {
             "line": {
              "color": "#E5ECF6",
              "width": 0.5
             },
             "pattern": {
              "fillmode": "overlay",
              "size": 10,
              "solidity": 0.2
             }
            },
            "type": "barpolar"
           }
          ],
          "carpet": [
           {
            "aaxis": {
             "endlinecolor": "#2a3f5f",
             "gridcolor": "white",
             "linecolor": "white",
             "minorgridcolor": "white",
             "startlinecolor": "#2a3f5f"
            },
            "baxis": {
             "endlinecolor": "#2a3f5f",
             "gridcolor": "white",
             "linecolor": "white",
             "minorgridcolor": "white",
             "startlinecolor": "#2a3f5f"
            },
            "type": "carpet"
           }
          ],
          "choropleth": [
           {
            "colorbar": {
             "outlinewidth": 0,
             "ticks": ""
            },
            "type": "choropleth"
           }
          ],
          "contour": [
           {
            "colorbar": {
             "outlinewidth": 0,
             "ticks": ""
            },
            "colorscale": [
             [
              0,
              "#0d0887"
             ],
             [
              0.1111111111111111,
              "#46039f"
             ],
             [
              0.2222222222222222,
              "#7201a8"
             ],
             [
              0.3333333333333333,
              "#9c179e"
             ],
             [
              0.4444444444444444,
              "#bd3786"
             ],
             [
              0.5555555555555556,
              "#d8576b"
             ],
             [
              0.6666666666666666,
              "#ed7953"
             ],
             [
              0.7777777777777778,
              "#fb9f3a"
             ],
             [
              0.8888888888888888,
              "#fdca26"
             ],
             [
              1,
              "#f0f921"
             ]
            ],
            "type": "contour"
           }
          ],
          "contourcarpet": [
           {
            "colorbar": {
             "outlinewidth": 0,
             "ticks": ""
            },
            "type": "contourcarpet"
           }
          ],
          "heatmap": [
           {
            "colorbar": {
             "outlinewidth": 0,
             "ticks": ""
            },
            "colorscale": [
             [
              0,
              "#0d0887"
             ],
             [
              0.1111111111111111,
              "#46039f"
             ],
             [
              0.2222222222222222,
              "#7201a8"
             ],
             [
              0.3333333333333333,
              "#9c179e"
             ],
             [
              0.4444444444444444,
              "#bd3786"
             ],
             [
              0.5555555555555556,
              "#d8576b"
             ],
             [
              0.6666666666666666,
              "#ed7953"
             ],
             [
              0.7777777777777778,
              "#fb9f3a"
             ],
             [
              0.8888888888888888,
              "#fdca26"
             ],
             [
              1,
              "#f0f921"
             ]
            ],
            "type": "heatmap"
           }
          ],
          "heatmapgl": [
           {
            "colorbar": {
             "outlinewidth": 0,
             "ticks": ""
            },
            "colorscale": [
             [
              0,
              "#0d0887"
             ],
             [
              0.1111111111111111,
              "#46039f"
             ],
             [
              0.2222222222222222,
              "#7201a8"
             ],
             [
              0.3333333333333333,
              "#9c179e"
             ],
             [
              0.4444444444444444,
              "#bd3786"
             ],
             [
              0.5555555555555556,
              "#d8576b"
             ],
             [
              0.6666666666666666,
              "#ed7953"
             ],
             [
              0.7777777777777778,
              "#fb9f3a"
             ],
             [
              0.8888888888888888,
              "#fdca26"
             ],
             [
              1,
              "#f0f921"
             ]
            ],
            "type": "heatmapgl"
           }
          ],
          "histogram": [
           {
            "marker": {
             "pattern": {
              "fillmode": "overlay",
              "size": 10,
              "solidity": 0.2
             }
            },
            "type": "histogram"
           }
          ],
          "histogram2d": [
           {
            "colorbar": {
             "outlinewidth": 0,
             "ticks": ""
            },
            "colorscale": [
             [
              0,
              "#0d0887"
             ],
             [
              0.1111111111111111,
              "#46039f"
             ],
             [
              0.2222222222222222,
              "#7201a8"
             ],
             [
              0.3333333333333333,
              "#9c179e"
             ],
             [
              0.4444444444444444,
              "#bd3786"
             ],
             [
              0.5555555555555556,
              "#d8576b"
             ],
             [
              0.6666666666666666,
              "#ed7953"
             ],
             [
              0.7777777777777778,
              "#fb9f3a"
             ],
             [
              0.8888888888888888,
              "#fdca26"
             ],
             [
              1,
              "#f0f921"
             ]
            ],
            "type": "histogram2d"
           }
          ],
          "histogram2dcontour": [
           {
            "colorbar": {
             "outlinewidth": 0,
             "ticks": ""
            },
            "colorscale": [
             [
              0,
              "#0d0887"
             ],
             [
              0.1111111111111111,
              "#46039f"
             ],
             [
              0.2222222222222222,
              "#7201a8"
             ],
             [
              0.3333333333333333,
              "#9c179e"
             ],
             [
              0.4444444444444444,
              "#bd3786"
             ],
             [
              0.5555555555555556,
              "#d8576b"
             ],
             [
              0.6666666666666666,
              "#ed7953"
             ],
             [
              0.7777777777777778,
              "#fb9f3a"
             ],
             [
              0.8888888888888888,
              "#fdca26"
             ],
             [
              1,
              "#f0f921"
             ]
            ],
            "type": "histogram2dcontour"
           }
          ],
          "mesh3d": [
           {
            "colorbar": {
             "outlinewidth": 0,
             "ticks": ""
            },
            "type": "mesh3d"
           }
          ],
          "parcoords": [
           {
            "line": {
             "colorbar": {
              "outlinewidth": 0,
              "ticks": ""
             }
            },
            "type": "parcoords"
           }
          ],
          "pie": [
           {
            "automargin": true,
            "type": "pie"
           }
          ],
          "scatter": [
           {
            "fillpattern": {
             "fillmode": "overlay",
             "size": 10,
             "solidity": 0.2
            },
            "type": "scatter"
           }
          ],
          "scatter3d": [
           {
            "line": {
             "colorbar": {
              "outlinewidth": 0,
              "ticks": ""
             }
            },
            "marker": {
             "colorbar": {
              "outlinewidth": 0,
              "ticks": ""
             }
            },
            "type": "scatter3d"
           }
          ],
          "scattercarpet": [
           {
            "marker": {
             "colorbar": {
              "outlinewidth": 0,
              "ticks": ""
             }
            },
            "type": "scattercarpet"
           }
          ],
          "scattergeo": [
           {
            "marker": {
             "colorbar": {
              "outlinewidth": 0,
              "ticks": ""
             }
            },
            "type": "scattergeo"
           }
          ],
          "scattergl": [
           {
            "marker": {
             "colorbar": {
              "outlinewidth": 0,
              "ticks": ""
             }
            },
            "type": "scattergl"
           }
          ],
          "scattermapbox": [
           {
            "marker": {
             "colorbar": {
              "outlinewidth": 0,
              "ticks": ""
             }
            },
            "type": "scattermapbox"
           }
          ],
          "scatterpolar": [
           {
            "marker": {
             "colorbar": {
              "outlinewidth": 0,
              "ticks": ""
             }
            },
            "type": "scatterpolar"
           }
          ],
          "scatterpolargl": [
           {
            "marker": {
             "colorbar": {
              "outlinewidth": 0,
              "ticks": ""
             }
            },
            "type": "scatterpolargl"
           }
          ],
          "scatterternary": [
           {
            "marker": {
             "colorbar": {
              "outlinewidth": 0,
              "ticks": ""
             }
            },
            "type": "scatterternary"
           }
          ],
          "surface": [
           {
            "colorbar": {
             "outlinewidth": 0,
             "ticks": ""
            },
            "colorscale": [
             [
              0,
              "#0d0887"
             ],
             [
              0.1111111111111111,
              "#46039f"
             ],
             [
              0.2222222222222222,
              "#7201a8"
             ],
             [
              0.3333333333333333,
              "#9c179e"
             ],
             [
              0.4444444444444444,
              "#bd3786"
             ],
             [
              0.5555555555555556,
              "#d8576b"
             ],
             [
              0.6666666666666666,
              "#ed7953"
             ],
             [
              0.7777777777777778,
              "#fb9f3a"
             ],
             [
              0.8888888888888888,
              "#fdca26"
             ],
             [
              1,
              "#f0f921"
             ]
            ],
            "type": "surface"
           }
          ],
          "table": [
           {
            "cells": {
             "fill": {
              "color": "#EBF0F8"
             },
             "line": {
              "color": "white"
             }
            },
            "header": {
             "fill": {
              "color": "#C8D4E3"
             },
             "line": {
              "color": "white"
             }
            },
            "type": "table"
           }
          ]
         },
         "layout": {
          "annotationdefaults": {
           "arrowcolor": "#2a3f5f",
           "arrowhead": 0,
           "arrowwidth": 1
          },
          "autotypenumbers": "strict",
          "coloraxis": {
           "colorbar": {
            "outlinewidth": 0,
            "ticks": ""
           }
          },
          "colorscale": {
           "diverging": [
            [
             0,
             "#8e0152"
            ],
            [
             0.1,
             "#c51b7d"
            ],
            [
             0.2,
             "#de77ae"
            ],
            [
             0.3,
             "#f1b6da"
            ],
            [
             0.4,
             "#fde0ef"
            ],
            [
             0.5,
             "#f7f7f7"
            ],
            [
             0.6,
             "#e6f5d0"
            ],
            [
             0.7,
             "#b8e186"
            ],
            [
             0.8,
             "#7fbc41"
            ],
            [
             0.9,
             "#4d9221"
            ],
            [
             1,
             "#276419"
            ]
           ],
           "sequential": [
            [
             0,
             "#0d0887"
            ],
            [
             0.1111111111111111,
             "#46039f"
            ],
            [
             0.2222222222222222,
             "#7201a8"
            ],
            [
             0.3333333333333333,
             "#9c179e"
            ],
            [
             0.4444444444444444,
             "#bd3786"
            ],
            [
             0.5555555555555556,
             "#d8576b"
            ],
            [
             0.6666666666666666,
             "#ed7953"
            ],
            [
             0.7777777777777778,
             "#fb9f3a"
            ],
            [
             0.8888888888888888,
             "#fdca26"
            ],
            [
             1,
             "#f0f921"
            ]
           ],
           "sequentialminus": [
            [
             0,
             "#0d0887"
            ],
            [
             0.1111111111111111,
             "#46039f"
            ],
            [
             0.2222222222222222,
             "#7201a8"
            ],
            [
             0.3333333333333333,
             "#9c179e"
            ],
            [
             0.4444444444444444,
             "#bd3786"
            ],
            [
             0.5555555555555556,
             "#d8576b"
            ],
            [
             0.6666666666666666,
             "#ed7953"
            ],
            [
             0.7777777777777778,
             "#fb9f3a"
            ],
            [
             0.8888888888888888,
             "#fdca26"
            ],
            [
             1,
             "#f0f921"
            ]
           ]
          },
          "colorway": [
           "#636efa",
           "#EF553B",
           "#00cc96",
           "#ab63fa",
           "#FFA15A",
           "#19d3f3",
           "#FF6692",
           "#B6E880",
           "#FF97FF",
           "#FECB52"
          ],
          "font": {
           "color": "#2a3f5f"
          },
          "geo": {
           "bgcolor": "white",
           "lakecolor": "white",
           "landcolor": "#E5ECF6",
           "showlakes": true,
           "showland": true,
           "subunitcolor": "white"
          },
          "hoverlabel": {
           "align": "left"
          },
          "hovermode": "closest",
          "mapbox": {
           "style": "light"
          },
          "paper_bgcolor": "white",
          "plot_bgcolor": "#E5ECF6",
          "polar": {
           "angularaxis": {
            "gridcolor": "white",
            "linecolor": "white",
            "ticks": ""
           },
           "bgcolor": "#E5ECF6",
           "radialaxis": {
            "gridcolor": "white",
            "linecolor": "white",
            "ticks": ""
           }
          },
          "scene": {
           "xaxis": {
            "backgroundcolor": "#E5ECF6",
            "gridcolor": "white",
            "gridwidth": 2,
            "linecolor": "white",
            "showbackground": true,
            "ticks": "",
            "zerolinecolor": "white"
           },
           "yaxis": {
            "backgroundcolor": "#E5ECF6",
            "gridcolor": "white",
            "gridwidth": 2,
            "linecolor": "white",
            "showbackground": true,
            "ticks": "",
            "zerolinecolor": "white"
           },
           "zaxis": {
            "backgroundcolor": "#E5ECF6",
            "gridcolor": "white",
            "gridwidth": 2,
            "linecolor": "white",
            "showbackground": true,
            "ticks": "",
            "zerolinecolor": "white"
           }
          },
          "shapedefaults": {
           "line": {
            "color": "#2a3f5f"
           }
          },
          "ternary": {
           "aaxis": {
            "gridcolor": "white",
            "linecolor": "white",
            "ticks": ""
           },
           "baxis": {
            "gridcolor": "white",
            "linecolor": "white",
            "ticks": ""
           },
           "bgcolor": "#E5ECF6",
           "caxis": {
            "gridcolor": "white",
            "linecolor": "white",
            "ticks": ""
           }
          },
          "title": {
           "x": 0.05
          },
          "xaxis": {
           "automargin": true,
           "gridcolor": "white",
           "linecolor": "white",
           "ticks": "",
           "title": {
            "standoff": 15
           },
           "zerolinecolor": "white",
           "zerolinewidth": 2
          },
          "yaxis": {
           "automargin": true,
           "gridcolor": "white",
           "linecolor": "white",
           "ticks": "",
           "title": {
            "standoff": 15
           },
           "zerolinecolor": "white",
           "zerolinewidth": 2
          }
         }
        },
        "title": {
         "text": "Optimization History Plot"
        },
        "xaxis": {
         "title": {
          "text": "Trial"
         }
        },
        "yaxis": {
         "title": {
          "text": "Objective Value"
         }
        }
       }
      }
     },
     "metadata": {},
     "output_type": "display_data"
    }
   ],
   "source": [
    "plot_optimization_history(study)"
   ]
  },
  {
   "cell_type": "code",
   "execution_count": 22,
   "metadata": {},
   "outputs": [
    {
     "name": "stderr",
     "output_type": "stream",
     "text": [
      "Default metric period is 5 because AUC is/are not implemented for GPU\n",
      "Default metric period is 5 because AUC is/are not implemented for GPU\n",
      "Default metric period is 5 because AUC is/are not implemented for GPU\n",
      "Default metric period is 5 because AUC is/are not implemented for GPU\n",
      "Default metric period is 5 because AUC is/are not implemented for GPU\n"
     ]
    },
    {
     "name": "stdout",
     "output_type": "stream",
     "text": [
      "AUC on CV with minor changes in fepl                   : 74.66%\n"
     ]
    }
   ],
   "source": [
    "best_params_df = pd.read_csv('../data/best_params_3M_pl.csv')\n",
    "best_params = best_params_df.to_dict(orient='records')[0]\n",
    "cbc = CatBoostClassifier(\n",
    "    **best_params,\n",
    "    random_seed=137,\n",
    "    cat_features=[i for i in X.columns if X[i].dtype == \"category\"],\n",
    "    logging_level='Silent',\n",
    "    eval_metric='AUC',\n",
    "    task_type='GPU',\n",
    "    auto_class_weights=\"SqrtBalanced\",\n",
    "    # leaf_estimation_method=\"Gradient\",\n",
    "    # grow_policy=\"SymmetricTree\",\n",
    ")\n",
    "\n",
    "cv = cross_val_score(cbc, X, y, cv=5, scoring='roc_auc')\n",
    "cv_mean = cv.mean()\n",
    "with open(\"results.txt\", \"a\") as f:\n",
    "    string = f\"AUC on CV with {message:40}: {cv_mean:.2%}\"\n",
    "    print(string)\n",
    "    f.write(f\"\\n{type(cbc).__name__}\\n{string}\\n\")\n",
    "\n",
    "# fef.playsound()"
   ]
  },
  {
   "cell_type": "code",
   "execution_count": 23,
   "metadata": {},
   "outputs": [
    {
     "name": "stderr",
     "output_type": "stream",
     "text": [
      "[autoreload of feature_engineering_pl failed: Traceback (most recent call last):\n",
      "  File \"c:\\Users\\User\\skillbox\\HOMEWORKS\\HWs\\Lib\\site-packages\\IPython\\extensions\\autoreload.py\", line 276, in check\n",
      "    superreload(m, reload, self.old_objects)\n",
      "  File \"c:\\Users\\User\\skillbox\\HOMEWORKS\\HWs\\Lib\\site-packages\\IPython\\extensions\\autoreload.py\", line 475, in superreload\n",
      "    module = reload(module)\n",
      "             ^^^^^^^^^^^^^^\n",
      "  File \"C:\\Users\\User\\AppData\\Local\\Programs\\Python\\Python311\\Lib\\importlib\\__init__.py\", line 169, in reload\n",
      "    _bootstrap._exec(spec, module)\n",
      "  File \"<frozen importlib._bootstrap>\", line 621, in _exec\n",
      "  File \"<frozen importlib._bootstrap_external>\", line 940, in exec_module\n",
      "  File \"<frozen importlib._bootstrap>\", line 241, in _call_with_frames_removed\n",
      "  File \"c:\\Users\\User\\skillbox\\HOMEWORKS\\ML Junior\\FINAL\\source\\feature_engineering_pl.py\", line 429, in <module>\n",
      "    df_feat = fepl.cr_cost_rate_grpd(df_feat)\n",
      "              ^^^^\n",
      "NameError: name 'fepl' is not defined\n",
      "]\n"
     ]
    },
    {
     "data": {
      "text/plain": [
       "array([0.76292092, 0.74961332, 0.75297019, 0.74566208, 0.72162197])"
      ]
     },
     "execution_count": 23,
     "metadata": {},
     "output_type": "execute_result"
    }
   ],
   "source": [
    "cv"
   ]
  },
  {
   "cell_type": "code",
   "execution_count": null,
   "metadata": {},
   "outputs": [],
   "source": []
  }
 ],
 "metadata": {
  "kernelspec": {
   "display_name": "HWs",
   "language": "python",
   "name": "python3"
  },
  "language_info": {
   "codemirror_mode": {
    "name": "ipython",
    "version": 3
   },
   "file_extension": ".py",
   "mimetype": "text/x-python",
   "name": "python",
   "nbconvert_exporter": "python",
   "pygments_lexer": "ipython3",
   "version": "3.11.0"
  }
 },
 "nbformat": 4,
 "nbformat_minor": 2
}
